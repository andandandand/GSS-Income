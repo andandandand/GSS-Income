{
 "cells": [
  {
   "cell_type": "code",
   "execution_count": 1,
   "metadata": {},
   "outputs": [],
   "source": [
    "import numpy as np\n",
    "import pandas as pd\n",
    "import scipy.stats as stats\n",
    "import matplotlib.pyplot as plt\n",
    "import seaborn as sns\n",
    "%matplotlib inline\n",
    "import savReaderWriter"
   ]
  },
  {
   "cell_type": "markdown",
   "metadata": {},
   "source": [
    "# Income in America\n",
    "\n",
    "I want to determine what the most important factors are in detemrining an individuals income in America. \n",
    "\n",
    "Specifically, I want to know if years of education or race are more influentail in determining income.\n",
    "\n",
    "To do this, I will using data from the General Social Survey (GSS) which contains a multitude of information gathered from people living in the United States gathered around every 2 years since 1972 and put it in a linear regression model. \n",
    "\n",
    "I will use a standard significance level of 0.05 for this excersize.\n",
    "\n",
    "I will begin by importing my data"
   ]
  },
  {
   "cell_type": "code",
   "execution_count": 2,
   "metadata": {},
   "outputs": [],
   "source": [
    "# function to the GSS sav files and return them as dataframes\n",
    "def import_sav(filepath):\n",
    "    with savReaderWriter.SavReader(filepath) as reader:\n",
    "        header = reader.header\n",
    "        records = reader.all()\n",
    "        header_str = []\n",
    "        for feature in header:\n",
    "            header_str.append(feature.decode('ascii'))\n",
    "        df = pd.DataFrame(records, columns = header_str)\n",
    "        return df"
   ]
  },
  {
   "cell_type": "code",
   "execution_count": 3,
   "metadata": {},
   "outputs": [],
   "source": [
    "# import the sav files\n",
    "work00 = import_sav('C:\\\\Code\\\\SSP\\\\work00.sav')\n",
    "work02 = import_sav('C:\\\\Code\\\\SSP\\\\work02.sav')\n",
    "work04 = import_sav('C:\\\\Code\\\\SSP\\\\work04.sav')\n",
    "work06 = import_sav('C:\\\\Code\\\\SSP\\\\work06.sav')\n",
    "work08 = import_sav('C:\\\\Code\\\\SSP\\\\work08.sav')\n",
    "work10 = import_sav('C:\\\\Code\\\\SSP\\\\work10.sav')\n",
    "work12 = import_sav('C:\\\\Code\\\\SSP\\\\work12.sav')\n",
    "work14 = import_sav('C:\\\\Code\\\\SSP\\\\work14.sav')\n",
    "work16 = import_sav('C:\\\\Code\\\\SSP\\\\work16.sav')"
   ]
  },
  {
   "cell_type": "markdown",
   "metadata": {},
   "source": [
    "Now that I have the the different GSS years, I need to combine them into one dataframe."
   ]
  },
  {
   "cell_type": "code",
   "execution_count": 4,
   "metadata": {},
   "outputs": [],
   "source": [
    "# create a list of common features between all GSS years\n",
    "shared_features = list(set(work16.columns).intersection(work14.columns))\n",
    "shared_features = list(set(shared_features).intersection(work12.columns))\n",
    "shared_features = list(set(shared_features).intersection(work10.columns))\n",
    "shared_features = list(set(shared_features).intersection(work08.columns))\n",
    "shared_features = list(set(shared_features).intersection(work06.columns))\n",
    "shared_features = list(set(shared_features).intersection(work04.columns))\n",
    "shared_features = list(set(shared_features).intersection(work02.columns))\n",
    "shared_features = list(set(shared_features).intersection(work00.columns))"
   ]
  },
  {
   "cell_type": "code",
   "execution_count": 5,
   "metadata": {},
   "outputs": [
    {
     "data": {
      "text/plain": [
       "407"
      ]
     },
     "execution_count": 5,
     "metadata": {},
     "output_type": "execute_result"
    }
   ],
   "source": [
    "len(shared_features)"
   ]
  },
  {
   "cell_type": "code",
   "execution_count": 6,
   "metadata": {},
   "outputs": [],
   "source": [
    "work_mult = pd.concat([work16[shared_features],work14[shared_features],work12[shared_features],\n",
    "                       work10[shared_features],work08[shared_features],work06[shared_features],work04[shared_features],\n",
    "                       work02[shared_features],work00[shared_features]])"
   ]
  },
  {
   "cell_type": "code",
   "execution_count": 7,
   "metadata": {},
   "outputs": [],
   "source": [
    "work_mult.reset_index(drop=True,inplace=True)"
   ]
  },
  {
   "cell_type": "code",
   "execution_count": 8,
   "metadata": {},
   "outputs": [
    {
     "data": {
      "text/plain": [
       "(24350, 407)"
      ]
     },
     "execution_count": 8,
     "metadata": {},
     "output_type": "execute_result"
    }
   ],
   "source": [
    "work_mult.shape"
   ]
  },
  {
   "cell_type": "code",
   "execution_count": 9,
   "metadata": {},
   "outputs": [
    {
     "data": {
      "text/html": [
       "<div>\n",
       "<style scoped>\n",
       "    .dataframe tbody tr th:only-of-type {\n",
       "        vertical-align: middle;\n",
       "    }\n",
       "\n",
       "    .dataframe tbody tr th {\n",
       "        vertical-align: top;\n",
       "    }\n",
       "\n",
       "    .dataframe thead th {\n",
       "        text-align: right;\n",
       "    }\n",
       "</style>\n",
       "<table border=\"1\" class=\"dataframe\">\n",
       "  <thead>\n",
       "    <tr style=\"text-align: right;\">\n",
       "      <th></th>\n",
       "      <th>POLABUSE</th>\n",
       "      <th>HELPSICK</th>\n",
       "      <th>RELHH1</th>\n",
       "      <th>TEENS</th>\n",
       "      <th>COLRAC</th>\n",
       "      <th>PARBORN</th>\n",
       "      <th>NATAID</th>\n",
       "      <th>RESPNUM</th>\n",
       "      <th>WHOELSE3</th>\n",
       "      <th>RELIG</th>\n",
       "      <th>...</th>\n",
       "      <th>POSTLIFE</th>\n",
       "      <th>CONFINAN</th>\n",
       "      <th>CONCLERG</th>\n",
       "      <th>FAIR</th>\n",
       "      <th>UNRELAT</th>\n",
       "      <th>GENDER3</th>\n",
       "      <th>RELHH5</th>\n",
       "      <th>WKSUBS</th>\n",
       "      <th>PRESTG10</th>\n",
       "      <th>WHOELSE2</th>\n",
       "    </tr>\n",
       "  </thead>\n",
       "  <tbody>\n",
       "    <tr>\n",
       "      <th>0</th>\n",
       "      <td>0.0</td>\n",
       "      <td>0.0</td>\n",
       "      <td>1.0</td>\n",
       "      <td>2.0</td>\n",
       "      <td>4.0</td>\n",
       "      <td>0.0</td>\n",
       "      <td>3.0</td>\n",
       "      <td>1.0</td>\n",
       "      <td>2.0</td>\n",
       "      <td>4.0</td>\n",
       "      <td>...</td>\n",
       "      <td>2.0</td>\n",
       "      <td>0.0</td>\n",
       "      <td>0.0</td>\n",
       "      <td>0.0</td>\n",
       "      <td>0.0</td>\n",
       "      <td>1.0</td>\n",
       "      <td>4.0</td>\n",
       "      <td>3.0</td>\n",
       "      <td>60.0</td>\n",
       "      <td>2.0</td>\n",
       "    </tr>\n",
       "    <tr>\n",
       "      <th>1</th>\n",
       "      <td>2.0</td>\n",
       "      <td>1.0</td>\n",
       "      <td>1.0</td>\n",
       "      <td>0.0</td>\n",
       "      <td>0.0</td>\n",
       "      <td>0.0</td>\n",
       "      <td>8.0</td>\n",
       "      <td>1.0</td>\n",
       "      <td>2.0</td>\n",
       "      <td>4.0</td>\n",
       "      <td>...</td>\n",
       "      <td>1.0</td>\n",
       "      <td>1.0</td>\n",
       "      <td>3.0</td>\n",
       "      <td>1.0</td>\n",
       "      <td>-1.0</td>\n",
       "      <td>0.0</td>\n",
       "      <td>0.0</td>\n",
       "      <td>3.0</td>\n",
       "      <td>40.0</td>\n",
       "      <td>2.0</td>\n",
       "    </tr>\n",
       "    <tr>\n",
       "      <th>2</th>\n",
       "      <td>2.0</td>\n",
       "      <td>3.0</td>\n",
       "      <td>1.0</td>\n",
       "      <td>0.0</td>\n",
       "      <td>5.0</td>\n",
       "      <td>0.0</td>\n",
       "      <td>3.0</td>\n",
       "      <td>1.0</td>\n",
       "      <td>1.0</td>\n",
       "      <td>2.0</td>\n",
       "      <td>...</td>\n",
       "      <td>1.0</td>\n",
       "      <td>3.0</td>\n",
       "      <td>1.0</td>\n",
       "      <td>1.0</td>\n",
       "      <td>0.0</td>\n",
       "      <td>0.0</td>\n",
       "      <td>0.0</td>\n",
       "      <td>0.0</td>\n",
       "      <td>38.0</td>\n",
       "      <td>2.0</td>\n",
       "    </tr>\n",
       "    <tr>\n",
       "      <th>3</th>\n",
       "      <td>0.0</td>\n",
       "      <td>0.0</td>\n",
       "      <td>1.0</td>\n",
       "      <td>2.0</td>\n",
       "      <td>4.0</td>\n",
       "      <td>0.0</td>\n",
       "      <td>3.0</td>\n",
       "      <td>2.0</td>\n",
       "      <td>2.0</td>\n",
       "      <td>2.0</td>\n",
       "      <td>...</td>\n",
       "      <td>1.0</td>\n",
       "      <td>0.0</td>\n",
       "      <td>0.0</td>\n",
       "      <td>0.0</td>\n",
       "      <td>0.0</td>\n",
       "      <td>1.0</td>\n",
       "      <td>41.0</td>\n",
       "      <td>3.0</td>\n",
       "      <td>35.0</td>\n",
       "      <td>2.0</td>\n",
       "    </tr>\n",
       "    <tr>\n",
       "      <th>4</th>\n",
       "      <td>2.0</td>\n",
       "      <td>1.0</td>\n",
       "      <td>1.0</td>\n",
       "      <td>0.0</td>\n",
       "      <td>4.0</td>\n",
       "      <td>0.0</td>\n",
       "      <td>0.0</td>\n",
       "      <td>2.0</td>\n",
       "      <td>2.0</td>\n",
       "      <td>4.0</td>\n",
       "      <td>...</td>\n",
       "      <td>2.0</td>\n",
       "      <td>3.0</td>\n",
       "      <td>3.0</td>\n",
       "      <td>2.0</td>\n",
       "      <td>0.0</td>\n",
       "      <td>2.0</td>\n",
       "      <td>0.0</td>\n",
       "      <td>3.0</td>\n",
       "      <td>31.0</td>\n",
       "      <td>1.0</td>\n",
       "    </tr>\n",
       "  </tbody>\n",
       "</table>\n",
       "<p>5 rows × 407 columns</p>\n",
       "</div>"
      ],
      "text/plain": [
       "   POLABUSE  HELPSICK  RELHH1  TEENS  COLRAC  PARBORN  NATAID  RESPNUM  \\\n",
       "0       0.0       0.0     1.0    2.0     4.0      0.0     3.0      1.0   \n",
       "1       2.0       1.0     1.0    0.0     0.0      0.0     8.0      1.0   \n",
       "2       2.0       3.0     1.0    0.0     5.0      0.0     3.0      1.0   \n",
       "3       0.0       0.0     1.0    2.0     4.0      0.0     3.0      2.0   \n",
       "4       2.0       1.0     1.0    0.0     4.0      0.0     0.0      2.0   \n",
       "\n",
       "   WHOELSE3  RELIG    ...     POSTLIFE  CONFINAN  CONCLERG  FAIR  UNRELAT  \\\n",
       "0       2.0    4.0    ...          2.0       0.0       0.0   0.0      0.0   \n",
       "1       2.0    4.0    ...          1.0       1.0       3.0   1.0     -1.0   \n",
       "2       1.0    2.0    ...          1.0       3.0       1.0   1.0      0.0   \n",
       "3       2.0    2.0    ...          1.0       0.0       0.0   0.0      0.0   \n",
       "4       2.0    4.0    ...          2.0       3.0       3.0   2.0      0.0   \n",
       "\n",
       "   GENDER3  RELHH5  WKSUBS  PRESTG10  WHOELSE2  \n",
       "0      1.0     4.0     3.0      60.0       2.0  \n",
       "1      0.0     0.0     3.0      40.0       2.0  \n",
       "2      0.0     0.0     0.0      38.0       2.0  \n",
       "3      1.0    41.0     3.0      35.0       2.0  \n",
       "4      2.0     0.0     3.0      31.0       1.0  \n",
       "\n",
       "[5 rows x 407 columns]"
      ]
     },
     "execution_count": 9,
     "metadata": {},
     "output_type": "execute_result"
    }
   ],
   "source": [
    "work_mult.head()"
   ]
  },
  {
   "cell_type": "markdown",
   "metadata": {},
   "source": [
    "# Cleaning Data\n",
    "\n",
    "I have all the survey years, now I must prepare the data for modeling.\n",
    "\n",
    "I will drop all the columns with null values, and clean my variables of interest. Since my data is survey data, their are many entries which refer to no applicable answers, no response, or other things of that nature. "
   ]
  },
  {
   "cell_type": "code",
   "execution_count": 10,
   "metadata": {},
   "outputs": [
    {
     "name": "stdout",
     "output_type": "stream",
     "text": [
      "dropped columns ['ISCO88', 'MAISCO88', 'SPISCO88', 'PAISCO88'] with nulls\n"
     ]
    }
   ],
   "source": [
    "null_col = work_mult.columns[work_mult.isna().any()].tolist()\n",
    "work_mult = work_mult.drop(null_col,1)\n",
    "print('dropped columns {} with nulls'.format(null_col))"
   ]
  },
  {
   "cell_type": "code",
   "execution_count": 11,
   "metadata": {},
   "outputs": [],
   "source": [
    "# drop people for whom income was non-applicable\n",
    "work_mult = work_mult.drop(work_mult[work_mult['CONINC']==0].index)"
   ]
  },
  {
   "cell_type": "code",
   "execution_count": 12,
   "metadata": {},
   "outputs": [],
   "source": [
    "work_mult['YEAR'] = work_mult['YEAR'].astype(int)"
   ]
  },
  {
   "cell_type": "code",
   "execution_count": 13,
   "metadata": {},
   "outputs": [],
   "source": [
    "# clean education level variable\n",
    "new_edu = []\n",
    "for num in work_mult['EDUC']:\n",
    "    num = int(num)\n",
    "    # drop 'don't know' and 'no response'\n",
    "    if num == 98 or num == 99:\n",
    "        new_edu.append(0)\n",
    "    # drop education levels where the respondant did not complete elementary school\n",
    "    elif num in range(1,5):\n",
    "        new_edu.append(0)\n",
    "    else:\n",
    "        new_edu.append(num)\n",
    "        \n",
    "work_mult['EDUC'] = new_edu "
   ]
  },
  {
   "cell_type": "code",
   "execution_count": 14,
   "metadata": {},
   "outputs": [],
   "source": [
    "work_mult = work_mult.drop(work_mult[work_mult['EDUC']==0].index)"
   ]
  },
  {
   "cell_type": "code",
   "execution_count": 15,
   "metadata": {},
   "outputs": [],
   "source": [
    "# create a new race variable with str categories\n",
    "new_race = []\n",
    "for num in work_mult['RACE']:\n",
    "    num = int(num)\n",
    "    if num == 1:\n",
    "        new_race.append('White')\n",
    "    elif num == 2:\n",
    "        new_race.append('Black')\n",
    "    elif num == 3:\n",
    "        new_race.append('Other')\n",
    "        \n",
    "work_mult['Race'] = new_race "
   ]
  },
  {
   "cell_type": "code",
   "execution_count": 16,
   "metadata": {},
   "outputs": [],
   "source": [
    "new_age = []\n",
    "for age in work_mult['AGE']:\n",
    "    age = int(age)\n",
    "    # only keep age value 89 or less, oldest respondants are 89\n",
    "    if age < 90:\n",
    "        new_age.append(age)\n",
    "    else:\n",
    "        new_age.append(0)\n",
    "        \n",
    "work_mult['AGE'] = new_age"
   ]
  },
  {
   "cell_type": "code",
   "execution_count": 17,
   "metadata": {},
   "outputs": [],
   "source": [
    "work_mult = work_mult.drop(work_mult[work_mult['AGE']==0].index)"
   ]
  },
  {
   "cell_type": "code",
   "execution_count": 18,
   "metadata": {},
   "outputs": [],
   "source": [
    "work_mult.reset_index(inplace=True)"
   ]
  },
  {
   "cell_type": "code",
   "execution_count": 19,
   "metadata": {},
   "outputs": [],
   "source": [
    "work_mult['Income'] = work_mult['CONINC']"
   ]
  },
  {
   "cell_type": "markdown",
   "metadata": {},
   "source": [
    "# Visualizing Data\n",
    "\n",
    "First, I want to make sure my data has no outliers"
   ]
  },
  {
   "cell_type": "code",
   "execution_count": 20,
   "metadata": {},
   "outputs": [
    {
     "data": {
      "image/png": "[encoded data removed]",
      "text/plain": [
       "<Figure size 432x288 with 1 Axes>"
      ]
     },
     "metadata": {},
     "output_type": "display_data"
    }
   ],
   "source": [
    "plt.boxplot(work_mult['Income'])\n",
    "plt.title('GSS Income Data')\n",
    "plt.show()"
   ]
  },
  {
   "cell_type": "markdown",
   "metadata": {},
   "source": [
    "There, appear to be a few. I need to remove them. "
   ]
  },
  {
   "cell_type": "code",
   "execution_count": 21,
   "metadata": {},
   "outputs": [
    {
     "data": {
      "text/plain": [
       "count     21269.000000\n",
       "mean      49461.009169\n",
       "std       42859.170452\n",
       "min         363.000000\n",
       "25%       18241.000000\n",
       "50%       37372.500000\n",
       "75%       65668.000000\n",
       "max      178712.464940\n",
       "Name: Income, dtype: float64"
      ]
     },
     "execution_count": 21,
     "metadata": {},
     "output_type": "execute_result"
    }
   ],
   "source": [
    "work_mult['Income'].describe()"
   ]
  },
  {
   "cell_type": "code",
   "execution_count": 22,
   "metadata": {},
   "outputs": [],
   "source": [
    "# user IQR*1.5 + Q3 for upper outlier bound\n",
    "outlier = (59542-17242.5) * 1.5 + 59542"
   ]
  },
  {
   "cell_type": "code",
   "execution_count": 23,
   "metadata": {},
   "outputs": [],
   "source": [
    "new_inc = []\n",
    "for inc in work_mult['Income']:\n",
    "    if inc < outlier:\n",
    "        new_inc.append(inc)\n",
    "    else:\n",
    "        new_inc.append(-1)\n",
    "        \n",
    "work_mult['Income'] = new_inc"
   ]
  },
  {
   "cell_type": "code",
   "execution_count": 24,
   "metadata": {},
   "outputs": [],
   "source": [
    "work_mult = work_mult.drop(work_mult[work_mult['Income']==-1].index)"
   ]
  },
  {
   "cell_type": "code",
   "execution_count": 25,
   "metadata": {},
   "outputs": [],
   "source": [
    "work_mult.reset_index(drop=True,inplace=True)"
   ]
  },
  {
   "cell_type": "code",
   "execution_count": 26,
   "metadata": {
    "scrolled": true
   },
   "outputs": [
    {
     "data": {
      "image/png": "[encoded data removed]",
      "text/plain": [
       "<Figure size 432x288 with 1 Axes>"
      ]
     },
     "metadata": {},
     "output_type": "display_data"
    }
   ],
   "source": [
    "plt.hist(work_mult['Income'])\n",
    "plt.title('GSS Income Data')\n",
    "plt.show()"
   ]
  },
  {
   "cell_type": "markdown",
   "metadata": {},
   "source": [
    "My outcome variable is not normally distributed, I will keep that in mind while modeling. Though it is not required for my outcome to be normal, it is required that the residuals of my model have a normal distribution.\n",
    "\n",
    "Another important part of regressive modeling is making sure there is a linear or somewhat linear relationship between the outcome and the features."
   ]
  },
  {
   "cell_type": "code",
   "execution_count": 27,
   "metadata": {},
   "outputs": [
    {
     "data": {
      "image/png": "[encoded data removed]",
      "text/plain": [
       "<Figure size 576x288 with 1 Axes>"
      ]
     },
     "metadata": {},
     "output_type": "display_data"
    }
   ],
   "source": [
    "fig, ax = plt.subplots(figsize=(8,4))\n",
    "sns.axes_style(\"white\")\n",
    "sns.pointplot(x=\"EDUC\",\n",
    "              y=\"Income\",\n",
    "              data=work_mult,\n",
    "              alpha=0.1,\n",
    "              palette=sns.color_palette(\"hls\", 20),\n",
    "              ax=ax)\n",
    "plt.title('Education vs. Income')\n",
    "plt.xlabel('Education Level (years)')\n",
    "plt.ylabel('Income (USD)')\n",
    "plt.show()"
   ]
  },
  {
   "cell_type": "markdown",
   "metadata": {},
   "source": [
    "Here I will note that the values in education relate to how many years of school someone has attended. The value starts at 5, meaning the lowest represented Education value is individuals with 5 years (or less) of formal schooling. \n",
    "\n",
    "Years of Education certainly has a near linear relationship between itself and Income, so I can use modeling to determine how it and Income interact.\n",
    "\n",
    "How does Race relate to Income?"
   ]
  },
  {
   "cell_type": "code",
   "execution_count": 28,
   "metadata": {},
   "outputs": [
    {
     "data": {
      "image/png": "[encoded data removed]",
      "text/plain": [
       "<Figure size 576x288 with 1 Axes>"
      ]
     },
     "metadata": {},
     "output_type": "display_data"
    }
   ],
   "source": [
    "fig, ax = plt.subplots(figsize=(8,4))\n",
    "sns.axes_style(\"white\")\n",
    "plt.tick_params(zorder=2.0)\n",
    "sns.pointplot(x=\"Race\"\n",
    "            ,y=\"Income\"\n",
    "            ,data=work_mult\n",
    "            ,alpha=0.1\n",
    "             ,palette=sns.color_palette(\"hls\", 20)\n",
    "             ,ax=ax)\n",
    "plt.title('Figure 1: Race vs. Income')\n",
    "plt.ylabel('Income (USD)')\n",
    "plt.show()"
   ]
  },
  {
   "cell_type": "code",
   "execution_count": 29,
   "metadata": {},
   "outputs": [
    {
     "data": {
      "image/png": "[encoded data removed]",
      "text/plain": [
       "<Figure size 720x360 with 1 Axes>"
      ]
     },
     "metadata": {},
     "output_type": "display_data"
    }
   ],
   "source": [
    "# Looking for overall patterns\n",
    "fig, ax = plt.subplots(figsize=(10,5))\n",
    "sns.axes_style(\"white\")\n",
    "sns.pointplot(x=\"YEAR\"\n",
    "            ,y=\"Income\"\n",
    "            ,hue='Race'\n",
    "            ,data=work_mult\n",
    "             ,ax=ax)\n",
    "plt.legend(bbox_to_anchor=(1.05, 1), loc=2)\n",
    "plt.title('Figure 2: GSS Years vs. Income across by Race ')\n",
    "plt.xlabel('GSS Year')\n",
    "plt.ylabel('Income (USD)')\n",
    "plt.show()"
   ]
  },
  {
   "cell_type": "markdown",
   "metadata": {},
   "source": [
    "It is important here to note that I am only using the race categories of white, black, or other. This is purely out of neccessity, as my computers and most others would not be able to handle the model I intend to use with more groups.\n",
    "\n",
    "Since Race it categorical, it can be more difficult to see if it relates linearly to Income. Forntunately, between the 2 visualizations it is very clear that race has a somewhat linear impact on Income, certainly enough for a categorical variable. So I can use modeling to see how it relates to income.\n",
    "\n",
    "Age is another factor that can affect Income, but probably not in linear ways. How do Age and Income relate?"
   ]
  },
  {
   "cell_type": "code",
   "execution_count": 30,
   "metadata": {},
   "outputs": [
    {
     "data": {
      "image/png": "[encoded data removed]",
      "text/plain": [
       "<Figure size 720x360 with 1 Axes>"
      ]
     },
     "metadata": {},
     "output_type": "display_data"
    }
   ],
   "source": [
    "# Looking for overall patterns\n",
    "fig, ax = plt.subplots(figsize=(10,5))\n",
    "# possibly put some years on axis\n",
    "plt.xticks(np.arange(18, 90, 4))\n",
    "plt.tick_params(axis='x',\n",
    "                which='both',\n",
    "                bottom=False,\n",
    "                top=False,\n",
    "                labelbottom=False)\n",
    "sns.axes_style(\"white\")\n",
    "sns.pointplot(x=\"AGE\",\n",
    "              y=\"Income\",\n",
    "              data=work_mult,\n",
    "              ax=ax)\n",
    "plt.title('Respondant Age vs. Income')\n",
    "plt.xlabel('Age (18-89 Years)')\n",
    "plt.ylabel('Income (USD)')\n",
    "plt.show()"
   ]
  },
  {
   "cell_type": "markdown",
   "metadata": {},
   "source": [
    "Age certainly affects Income, but I would not be able to evalute how through linear regression alone since it does not relate to it in any linear way. \n",
    "\n",
    "More troubling, the income data coming from 18-25 year olds is very similar to the Income data coming from 70-89 years olds. This makes sense, because younger people usually have less experiance, thus get lower paying jobs with less income and older people have retired thus have lower income as well. However, these groups are socially very different, the way that race and education affect income for younger people is not neccesarily the same as the way that race and education affected the people of the past.  In fact, a person's age may change how their race and education affect their income.\n",
    "\n",
    "I don't want these possible differences to affect my results, so I will model with a Mixed Effect Linear Regression model, where my groups will be based on respondant age. This way, each age group can be allowed to interact with the parameters differently."
   ]
  },
  {
   "cell_type": "markdown",
   "metadata": {},
   "source": [
    "# Calculate ICC\n",
    "\n",
    "Before I can use a Mixed Effect, or ME, model, I must make sure that the classes, or age grouos, have dependency. This means that results between members of the same group are more similar to each other than members of the entire dataset. \n",
    "\n",
    "This is done be calculating the IntraClass Correlation (ICC)."
   ]
  },
  {
   "cell_type": "code",
   "execution_count": 31,
   "metadata": {},
   "outputs": [],
   "source": [
    "import statsmodels.api as sm\n",
    "import statsmodels.formula.api as smf\n",
    "from statsmodels.regression.mixed_linear_model import MixedLMParams"
   ]
  },
  {
   "cell_type": "code",
   "execution_count": 32,
   "metadata": {},
   "outputs": [
    {
     "name": "stdout",
     "output_type": "stream",
     "text": [
      "running...\n",
      "             Mixed Linear Model Regression Results\n",
      "================================================================\n",
      "Model:              MixedLM  Dependent Variable:  Income        \n",
      "No. Observations:   19526    Method:              REML          \n",
      "No. Groups:         72       Scale:               709940191.5010\n",
      "Min. group size:    39       Likelihood:          -226779.1163  \n",
      "Max. group size:    436      Converged:           Yes           \n",
      "Mean group size:    271.2                                       \n",
      "----------------------------------------------------------------\n",
      "             Coef.     Std.Err.   z    P>|z|   [0.025    0.975] \n",
      "----------------------------------------------------------------\n",
      "Intercept    37283.662  874.833 42.618 0.000 35569.021 38998.304\n",
      "Group Var 51351096.549  352.494                                 \n",
      "================================================================\n",
      "\n",
      "done!\n",
      "The Intraclass Correlation is: 0.06745262602493149\n"
     ]
    }
   ],
   "source": [
    "# Model to use for calculating the ICC\n",
    "print('running...')\n",
    "model = smf.mixedlm(\"Income ~ 1\",data=work_mult,groups=work_mult['AGE'])\n",
    "result = model.fit(method='nm',maxiter=200, full_output=True)\n",
    "print(result.summary())\n",
    "print(\"done!\")\n",
    "\n",
    "# Function to calculate the intraclass correlation\n",
    "def ICC(fittedmodel):\n",
    "    between_var= fittedmodel.cov_re.iloc[0,0]\n",
    "    resid=fittedmodel.scale\n",
    "    icc=between_var/(between_var+resid)\n",
    "    return icc\n",
    "\n",
    "print('The Intraclass Correlation is: {}'.format(ICC(result)))"
   ]
  },
  {
   "cell_type": "markdown",
   "metadata": {},
   "source": [
    "So, people of the same age are more than 7% more similar than people of any age. This is greater than the overall significance I set and thus I can used ME models with this data and situation."
   ]
  },
  {
   "cell_type": "markdown",
   "metadata": {},
   "source": [
    "# Modeling with Mixed Effects\n",
    "\n",
    "Mixed Effect models are made up of both 'fixed' and 'random' effects. Fixed effects are the trends that the entire data set follows and every parameter will have fixed effects (the intercept may be fixed of random). Random effect are the trends that only effect members of the same group, in this case people of the same age; not every parameter will have random effects, and finding which parameter should have random effects and which should not is one of the most important parts of ME modelings."
   ]
  },
  {
   "cell_type": "markdown",
   "metadata": {},
   "source": [
    "## Running Different RE Configurations\n",
    "\n",
    "Though the model I am using may be mixed effect, it is still linear regression and such will try and optimize a basic linear formula. Here, this formula looks something like this:\n",
    "\n",
    "$$Income_{age} = intercept + X*education + Y*race$$\n",
    "\n",
    "I need to decide if I will have a fixed or random intercept, a fixed or random education coefficient/slope, and finally a fixed or random race coefficient/slope.\n",
    "\n",
    "This leads to 7 different configurations in total: \n",
    "1. Random Intercept, Random Education Slope AND Random Race Slope\n",
    "2. Random Intercept, Random Education Slope\n",
    "3. Random Intercept, Random Race Slope\n",
    "4. Random Intercept, No Random Slope\n",
    "5. Fixed Intercept, Random Education Slope AND Random Race Slope\n",
    "6. Fixed Intercept, Random Education Slope\n",
    "7. Fixed Intercept, Random Race Slope"
   ]
  },
  {
   "cell_type": "markdown",
   "metadata": {},
   "source": [
    "### 1. Random Intercept, Random Education Slope AND Random Race Slope\n",
    "\n",
    "Unfortunately, this model did not converge, meaning its results were unstable. It will not be used further."
   ]
  },
  {
   "cell_type": "code",
   "execution_count": 33,
   "metadata": {},
   "outputs": [
    {
     "name": "stdout",
     "output_type": "stream",
     "text": [
      "Running age-controlled random intercept and random race and education slope model\n"
     ]
    },
    {
     "name": "stderr",
     "output_type": "stream",
     "text": [
      "c:\\users\\ben stano\\appdata\\local\\programs\\python\\python36-32\\lib\\site-packages\\statsmodels\\base\\model.py:508: ConvergenceWarning: Maximum Likelihood optimization failed to converge. Check mle_retvals\n",
      "  \"Check mle_retvals\", ConvergenceWarning)\n",
      "c:\\users\\ben stano\\appdata\\local\\programs\\python\\python36-32\\lib\\site-packages\\statsmodels\\base\\model.py:508: ConvergenceWarning: Maximum Likelihood optimization failed to converge. Check mle_retvals\n",
      "  \"Check mle_retvals\", ConvergenceWarning)\n",
      "c:\\users\\ben stano\\appdata\\local\\programs\\python\\python36-32\\lib\\site-packages\\statsmodels\\base\\model.py:508: ConvergenceWarning: Maximum Likelihood optimization failed to converge. Check mle_retvals\n",
      "  \"Check mle_retvals\", ConvergenceWarning)\n",
      "c:\\users\\ben stano\\appdata\\local\\programs\\python\\python36-32\\lib\\site-packages\\statsmodels\\base\\model.py:508: ConvergenceWarning: Maximum Likelihood optimization failed to converge. Check mle_retvals\n",
      "  \"Check mle_retvals\", ConvergenceWarning)\n",
      "c:\\users\\ben stano\\appdata\\local\\programs\\python\\python36-32\\lib\\site-packages\\statsmodels\\base\\model.py:508: ConvergenceWarning: Maximum Likelihood optimization failed to converge. Check mle_retvals\n",
      "  \"Check mle_retvals\", ConvergenceWarning)\n",
      "c:\\users\\ben stano\\appdata\\local\\programs\\python\\python36-32\\lib\\site-packages\\statsmodels\\regression\\mixed_linear_model.py:2026: ConvergenceWarning: Gradient optimization failed.\n",
      "  warnings.warn(msg, ConvergenceWarning)\n"
     ]
    },
    {
     "name": "stdout",
     "output_type": "stream",
     "text": [
      "                           Mixed Linear Model Regression Results\n",
      "===========================================================================================\n",
      "Model:                       MixedLM           Dependent Variable:           Income        \n",
      "No. Observations:            19526             Method:                       REML          \n",
      "No. Groups:                  72                Scale:                        599910955.8667\n",
      "Min. group size:             39                Likelihood:                   -225129.7343  \n",
      "Max. group size:             436               Converged:                    No            \n",
      "Mean group size:             271.2                                                         \n",
      "-------------------------------------------------------------------------------------------\n",
      "                                     Coef.     Std.Err.    z    P>|z|   [0.025     0.975]  \n",
      "-------------------------------------------------------------------------------------------\n",
      "Intercept                           -14032.750 1245.435 -11.267 0.000 -16473.757 -11591.743\n",
      "Race[T.Other]                         7012.499  972.616   7.210 0.000   5106.206   8918.792\n",
      "Race[T.White]                         9912.608  705.941  14.042 0.000   8528.990  11296.227\n",
      "EDUC                                  3244.431  102.198  31.746 0.000   3044.126   3444.736\n",
      "Group Var                         21819715.383  758.249                                    \n",
      "Group x Race[T.Other] Cov          -314734.125  354.675                                    \n",
      "Race[T.Other] Var                  2094229.675  264.283                                    \n",
      "Group x Race[T.White] Cov          -865559.205  269.829                                    \n",
      "Race[T.Other] x Race[T.White] Cov  1446218.942  191.781                                    \n",
      "Race[T.White] Var                  7447020.616  219.886                                    \n",
      "Group x EDUC Cov                  -2470101.909   53.427                                    \n",
      "Race[T.Other] x EDUC Cov             37082.678   25.397                                    \n",
      "Race[T.White] x EDUC Cov            833530.664   21.322                                    \n",
      "EDUC Var                            363627.614    4.972                                    \n",
      "===========================================================================================\n",
      "\n",
      "done!\n"
     ]
    }
   ],
   "source": [
    "print('Running age-controlled random intercept and random race and education slope model')\n",
    "arisb_model = smf.mixedlm(\"Income ~ Race + EDUC\",data=work_mult,groups=work_mult['AGE'], re_formula=\"~Race+EDUC\")\n",
    "arisb_result = arisb_model.fit(method='nm', maxiter=200, full_output=True)\n",
    "print(arisb_result.summary())\n",
    "print(\"done!\")"
   ]
  },
  {
   "cell_type": "markdown",
   "metadata": {},
   "source": [
    "### 2. Random Intercept, Random Education Slope"
   ]
  },
  {
   "cell_type": "code",
   "execution_count": 34,
   "metadata": {},
   "outputs": [
    {
     "name": "stdout",
     "output_type": "stream",
     "text": [
      "Running age-controlled random intercept and random education slope model\n",
      "                  Mixed Linear Model Regression Results\n",
      "==========================================================================\n",
      "Model:                  MixedLM     Dependent Variable:     Income        \n",
      "No. Observations:       19526       Method:                 REML          \n",
      "No. Groups:             72          Scale:                  601008512.3522\n",
      "Min. group size:        39          Likelihood:             -225142.8855  \n",
      "Max. group size:        436         Converged:              Yes           \n",
      "Mean group size:        271.2                                             \n",
      "--------------------------------------------------------------------------\n",
      "                    Coef.     Std.Err.    z    P>|z|   [0.025     0.975]  \n",
      "--------------------------------------------------------------------------\n",
      "Intercept          -14529.077 1146.223 -12.676 0.000 -16775.634 -12282.521\n",
      "Race[T.Other]        7282.615  740.814   9.831 0.000   5830.646   8734.584\n",
      "Race[T.White]       10837.371  494.601  21.911 0.000   9867.971  11806.771\n",
      "EDUC                 3218.944  104.187  30.896 0.000   3014.741   3423.147\n",
      "Group Var        20658486.541  546.385                                    \n",
      "Group x EDUC Cov -1951090.620   47.604                                    \n",
      "EDUC Var           414579.102    5.146                                    \n",
      "==========================================================================\n",
      "\n",
      "done!\n"
     ]
    }
   ],
   "source": [
    "print('Running age-controlled random intercept and random education slope model')\n",
    "arise_model = smf.mixedlm(\"Income ~ Race + EDUC\",data=work_mult,groups=work_mult['AGE'], re_formula=\"~EDUC\")\n",
    "arise_result = arise_model.fit(method='nm', maxiter=200, full_output=True)\n",
    "print(arise_result.summary())\n",
    "print(\"done!\")"
   ]
  },
  {
   "cell_type": "markdown",
   "metadata": {},
   "source": [
    "### 3. Random Intercept, Random Race Slope"
   ]
  },
  {
   "cell_type": "code",
   "execution_count": 35,
   "metadata": {},
   "outputs": [
    {
     "name": "stdout",
     "output_type": "stream",
     "text": [
      "Running Random Intercept, Random Race Slope model\n"
     ]
    },
    {
     "name": "stderr",
     "output_type": "stream",
     "text": [
      "c:\\users\\ben stano\\appdata\\local\\programs\\python\\python36-32\\lib\\site-packages\\statsmodels\\base\\model.py:508: ConvergenceWarning: Maximum Likelihood optimization failed to converge. Check mle_retvals\n",
      "  \"Check mle_retvals\", ConvergenceWarning)\n",
      "c:\\users\\ben stano\\appdata\\local\\programs\\python\\python36-32\\lib\\site-packages\\statsmodels\\base\\model.py:508: ConvergenceWarning: Maximum Likelihood optimization failed to converge. Check mle_retvals\n",
      "  \"Check mle_retvals\", ConvergenceWarning)\n"
     ]
    },
    {
     "name": "stdout",
     "output_type": "stream",
     "text": [
      "                           Mixed Linear Model Regression Results\n",
      "===========================================================================================\n",
      "Model:                       MixedLM           Dependent Variable:           Income        \n",
      "No. Observations:            19526             Method:                       REML          \n",
      "No. Groups:                  72                Scale:                        602433836.0175\n",
      "Min. group size:             39                Likelihood:                   -225156.0605  \n",
      "Max. group size:             436               Converged:                    Yes           \n",
      "Mean group size:             271.2                                                         \n",
      "-------------------------------------------------------------------------------------------\n",
      "                                     Coef.     Std.Err.    z    P>|z|   [0.025     0.975]  \n",
      "-------------------------------------------------------------------------------------------\n",
      "Intercept                           -15456.264 1070.339 -14.441 0.000 -17554.090 -13358.439\n",
      "Race[T.Other]                         6578.071  827.388   7.950 0.000   4956.420   8199.722\n",
      "Race[T.White]                         9778.083  656.803  14.887 0.000   8490.774  11065.392\n",
      "EDUC                                  3363.694   64.947  51.791 0.000   3236.400   3490.989\n",
      "Group Var                         15441458.519  234.609                                    \n",
      "Group x Race[T.Other] Cov          4314056.418  175.696                                    \n",
      "Race[T.Other] Var                  3915484.704  264.248                                    \n",
      "Group x Race[T.White] Cov         11799602.439  149.672                                    \n",
      "Race[T.Other] x Race[T.White] Cov  4952648.142  203.866                                    \n",
      "Race[T.White] Var                 10028649.874  227.263                                    \n",
      "===========================================================================================\n",
      "\n",
      "done!\n"
     ]
    }
   ],
   "source": [
    "print('Running Random Intercept, Random Race Slope model')\n",
    "arisr_model = smf.mixedlm(\"Income ~ Race + EDUC\",data=work_mult,groups=work_mult['AGE'], re_formula=\"~Race\")\n",
    "arisr_result = arisr_model.fit(method='nm', maxiter=200, full_output=True)\n",
    "print(arisr_result.summary())\n",
    "print(\"done!\")"
   ]
  },
  {
   "cell_type": "markdown",
   "metadata": {},
   "source": [
    "### 4. Random Intercept, No Random Slope"
   ]
  },
  {
   "cell_type": "code",
   "execution_count": 36,
   "metadata": {
    "scrolled": false
   },
   "outputs": [
    {
     "name": "stdout",
     "output_type": "stream",
     "text": [
      "Running age-controlled random intercept model\n",
      "                 Mixed Linear Model Regression Results\n",
      "=======================================================================\n",
      "Model:                 MixedLM    Dependent Variable:    Income        \n",
      "No. Observations:      19526      Method:                REML          \n",
      "No. Groups:            72         Scale:                 603679814.3956\n",
      "Min. group size:       39         Likelihood:            -225173.7062  \n",
      "Max. group size:       436        Converged:             Yes           \n",
      "Mean group size:       271.2                                           \n",
      "-----------------------------------------------------------------------\n",
      "                 Coef.     Std.Err.    z    P>|z|   [0.025     0.975]  \n",
      "-----------------------------------------------------------------------\n",
      "Intercept       -16317.917 1216.869 -13.410 0.000 -18702.937 -13932.898\n",
      "Race[T.Other]     7139.773  741.960   9.623 0.000   5685.558   8593.987\n",
      "Race[T.White]    10813.187  495.352  21.829 0.000   9842.314  11784.060\n",
      "EDUC              3358.747   64.977  51.691 0.000   3231.394   3486.101\n",
      "Group Var     41752208.045  310.876                                    \n",
      "=======================================================================\n",
      "\n",
      "done!\n"
     ]
    }
   ],
   "source": [
    "print('Running age-controlled random intercept model')\n",
    "ari_model = smf.mixedlm(\"Income ~ Race + EDUC\",data=work_mult,groups=work_mult['AGE'])\n",
    "ari_result = ari_model.fit(method='nm', maxiter=200, full_output=True)\n",
    "print(ari_result.summary())\n",
    "print(\"done!\")"
   ]
  },
  {
   "cell_type": "markdown",
   "metadata": {},
   "source": [
    "### 5. Fixed Intercept, Random Education Slope AND Random Race Slope\n",
    "\n",
    "This model also did not converge, this configuartion is clearly not ideal."
   ]
  },
  {
   "cell_type": "code",
   "execution_count": 37,
   "metadata": {},
   "outputs": [
    {
     "name": "stdout",
     "output_type": "stream",
     "text": [
      "Running Fixed Intercept, Random Education Slope AND Random Race Slope model\n"
     ]
    },
    {
     "name": "stderr",
     "output_type": "stream",
     "text": [
      "c:\\users\\ben stano\\appdata\\local\\programs\\python\\python36-32\\lib\\site-packages\\statsmodels\\base\\model.py:508: ConvergenceWarning: Maximum Likelihood optimization failed to converge. Check mle_retvals\n",
      "  \"Check mle_retvals\", ConvergenceWarning)\n",
      "c:\\users\\ben stano\\appdata\\local\\programs\\python\\python36-32\\lib\\site-packages\\statsmodels\\base\\model.py:508: ConvergenceWarning: Maximum Likelihood optimization failed to converge. Check mle_retvals\n",
      "  \"Check mle_retvals\", ConvergenceWarning)\n",
      "c:\\users\\ben stano\\appdata\\local\\programs\\python\\python36-32\\lib\\site-packages\\statsmodels\\base\\model.py:508: ConvergenceWarning: Maximum Likelihood optimization failed to converge. Check mle_retvals\n",
      "  \"Check mle_retvals\", ConvergenceWarning)\n",
      "c:\\users\\ben stano\\appdata\\local\\programs\\python\\python36-32\\lib\\site-packages\\statsmodels\\base\\model.py:508: ConvergenceWarning: Maximum Likelihood optimization failed to converge. Check mle_retvals\n",
      "  \"Check mle_retvals\", ConvergenceWarning)\n",
      "c:\\users\\ben stano\\appdata\\local\\programs\\python\\python36-32\\lib\\site-packages\\statsmodels\\base\\model.py:508: ConvergenceWarning: Maximum Likelihood optimization failed to converge. Check mle_retvals\n",
      "  \"Check mle_retvals\", ConvergenceWarning)\n",
      "c:\\users\\ben stano\\appdata\\local\\programs\\python\\python36-32\\lib\\site-packages\\statsmodels\\regression\\mixed_linear_model.py:2026: ConvergenceWarning: Gradient optimization failed.\n",
      "  warnings.warn(msg, ConvergenceWarning)\n"
     ]
    },
    {
     "name": "stdout",
     "output_type": "stream",
     "text": [
      "                         Mixed Linear Model Regression Results\n",
      "=======================================================================================\n",
      "Model:                     MixedLM          Dependent Variable:          Income        \n",
      "No. Observations:          19526            Method:                      REML          \n",
      "No. Groups:                72               Scale:                       600418218.9756\n",
      "Min. group size:           39               Likelihood:                  -225130.9309  \n",
      "Max. group size:           436              Converged:                   No            \n",
      "Mean group size:           271.2                                                       \n",
      "---------------------------------------------------------------------------------------\n",
      "                                 Coef.     Std.Err.    z    P>|z|   [0.025     0.975]  \n",
      "---------------------------------------------------------------------------------------\n",
      "Intercept                       -13897.341 1188.810 -11.690 0.000 -16227.367 -11567.315\n",
      "Race[T.Other]                     6817.149 1194.027   5.709 0.000   4476.898   9157.399\n",
      "Race[T.White]                     9908.494  738.698  13.413 0.000   8460.672  11356.316\n",
      "EDUC                              3233.346   91.220  35.445 0.000   3054.558   3412.134\n",
      "Race[Black] Var                9502876.870  471.899                                    \n",
      "Race[Black] x Race[Other] Cov   795362.451  532.812                                    \n",
      "Race[Other] Var                1156946.287 1034.718                                    \n",
      "Race[Black] x Race[White] Cov  2685716.237  372.178                                    \n",
      "Race[Other] x Race[White] Cov  -334394.127  514.224                                    \n",
      "Race[White] Var                4189023.121  343.386                                    \n",
      "Race[Black] x EDUC Cov        -1277102.982   34.253                                    \n",
      "Race[Other] x EDUC Cov         -312145.402   32.869                                    \n",
      "Race[White] x EDUC Cov           52805.652   26.772                                    \n",
      "EDUC Var                        240708.588    3.170                                    \n",
      "=======================================================================================\n",
      "\n",
      "done!\n"
     ]
    }
   ],
   "source": [
    "print('Running Fixed Intercept, Random Education Slope AND Random Race Slope model')\n",
    "arsb_model = smf.mixedlm(\"Income ~ Race + EDUC\",data=work_mult,groups=work_mult['AGE'], re_formula=\"~0+Race+EDUC\")\n",
    "arsb_result = arsb_model.fit(method='nm',maxiter=200, full_output=True)\n",
    "print(arsb_result.summary())\n",
    "print(\"done!\")"
   ]
  },
  {
   "cell_type": "markdown",
   "metadata": {},
   "source": [
    "### 6. Fixed Intercept, Random Education Slope"
   ]
  },
  {
   "cell_type": "code",
   "execution_count": 38,
   "metadata": {},
   "outputs": [
    {
     "name": "stdout",
     "output_type": "stream",
     "text": [
      "Running Fixed Intercept, Random Education Slope model\n",
      "                Mixed Linear Model Regression Results\n",
      "=====================================================================\n",
      "Model:               MixedLM    Dependent Variable:    Income        \n",
      "No. Observations:    19526      Method:                REML          \n",
      "No. Groups:          72         Scale:                 601791814.6159\n",
      "Min. group size:     39         Likelihood:            -225145.2088  \n",
      "Max. group size:     436        Converged:             Yes           \n",
      "Mean group size:     271.2                                           \n",
      "---------------------------------------------------------------------\n",
      "                Coef.    Std.Err.    z    P>|z|   [0.025     0.975]  \n",
      "---------------------------------------------------------------------\n",
      "Intercept     -14545.323  951.005 -15.295 0.000 -16409.258 -12681.388\n",
      "Race[T.Other]   7289.653  740.480   9.844 0.000   5838.338   8740.968\n",
      "Race[T.White]  10810.809  494.352  21.869 0.000   9841.898  11779.721\n",
      "EDUC            3220.623   88.169  36.528 0.000   3047.815   3393.432\n",
      "EDUC Var      241187.105    1.802                                    \n",
      "=====================================================================\n",
      "\n",
      "done!\n"
     ]
    }
   ],
   "source": [
    "print('Running Fixed Intercept, Random Education Slope model')\n",
    "arse_model = smf.mixedlm(\"Income ~ Race + EDUC\",data=work_mult,groups=work_mult['AGE'], re_formula=\"~0+EDUC\")\n",
    "arse_result = arse_model.fit(method='nm',maxiter=200, full_output=True)\n",
    "print(arse_result.summary())\n",
    "print(\"done!\")"
   ]
  },
  {
   "cell_type": "markdown",
   "metadata": {},
   "source": [
    "### 7. Fixed Intercept, Random Race Slope"
   ]
  },
  {
   "cell_type": "code",
   "execution_count": 39,
   "metadata": {},
   "outputs": [
    {
     "name": "stdout",
     "output_type": "stream",
     "text": [
      "Running Fixed Intercept, Random Race Slope model\n"
     ]
    },
    {
     "name": "stderr",
     "output_type": "stream",
     "text": [
      "c:\\users\\ben stano\\appdata\\local\\programs\\python\\python36-32\\lib\\site-packages\\statsmodels\\base\\model.py:508: ConvergenceWarning: Maximum Likelihood optimization failed to converge. Check mle_retvals\n",
      "  \"Check mle_retvals\", ConvergenceWarning)\n",
      "c:\\users\\ben stano\\appdata\\local\\programs\\python\\python36-32\\lib\\site-packages\\statsmodels\\base\\model.py:508: ConvergenceWarning: Maximum Likelihood optimization failed to converge. Check mle_retvals\n",
      "  \"Check mle_retvals\", ConvergenceWarning)\n",
      "c:\\users\\ben stano\\appdata\\local\\programs\\python\\python36-32\\lib\\site-packages\\statsmodels\\base\\model.py:508: ConvergenceWarning: Maximum Likelihood optimization failed to converge. Check mle_retvals\n",
      "  \"Check mle_retvals\", ConvergenceWarning)\n",
      "c:\\users\\ben stano\\appdata\\local\\programs\\python\\python36-32\\lib\\site-packages\\statsmodels\\base\\model.py:508: ConvergenceWarning: Maximum Likelihood optimization failed to converge. Check mle_retvals\n",
      "  \"Check mle_retvals\", ConvergenceWarning)\n"
     ]
    },
    {
     "name": "stdout",
     "output_type": "stream",
     "text": [
      "                         Mixed Linear Model Regression Results\n",
      "=======================================================================================\n",
      "Model:                     MixedLM          Dependent Variable:          Income        \n",
      "No. Observations:          19526            Method:                      REML          \n",
      "No. Groups:                72               Scale:                       602432463.7048\n",
      "Min. group size:           39               Likelihood:                  -225156.0558  \n",
      "Max. group size:           436              Converged:                   Yes           \n",
      "Mean group size:           271.2                                                       \n",
      "---------------------------------------------------------------------------------------\n",
      "                                 Coef.     Std.Err.    z    P>|z|   [0.025     0.975]  \n",
      "---------------------------------------------------------------------------------------\n",
      "Intercept                       -15456.198 1070.385 -14.440 0.000 -17554.114 -13358.282\n",
      "Race[T.Other]                     6578.326  827.482   7.950 0.000   4956.492   8200.161\n",
      "Race[T.White]                     9777.993  656.862  14.886 0.000   8490.566  11065.419\n",
      "EDUC                              3363.689   64.947  51.791 0.000   3236.395   3490.984\n",
      "Race[Black] Var               15446600.320  234.695                                    \n",
      "Race[Black] x Race[Other] Cov 19753326.800  252.142                                    \n",
      "Race[Other] Var               27980486.253  414.199                                    \n",
      "Race[Black] x Race[White] Cov 27250305.357  255.140                                    \n",
      "Race[Other] x Race[White] Cov 36507948.218  335.501                                    \n",
      "Race[White] Var               49087022.039  366.479                                    \n",
      "=======================================================================================\n",
      "\n",
      "done!\n"
     ]
    }
   ],
   "source": [
    "print('Running Fixed Intercept, Random Race Slope model')\n",
    "arsr_model = smf.mixedlm(\"Income ~ Race + EDUC\",data=work_mult,groups=work_mult['AGE'], re_formula=\"~0+Race\")\n",
    "arsr_result = arsr_model.fit(method='nm',maxiter=200, full_output=True)\n",
    "print(arsr_result.summary())\n",
    "print(\"done!\")"
   ]
  },
  {
   "cell_type": "markdown",
   "metadata": {},
   "source": [
    "## Comparing Random Effect Configurations\n",
    "\n",
    "After all is said and done, I am left 5 model random effect configurations to test: \n",
    "2. Random Intercept, Random Education Slope\n",
    "3. Random Intercept, Random Race Slope\n",
    "4. Random Intercept, No Random Slope\n",
    "6. Fixed Intercept, Random Education Slope\n",
    "7. Fixed Intercept, Random Race Slope\n",
    "\n",
    "Both model configurations that failed were the ones that used random effects for both variables, showing just how large and overcomplicationed ME models can get very quickly\n",
    "\n",
    "Comparing between ME models can be tricky, since they can have such different parameters. You can only directly compare the performance of 2 ME models if one model is a subset of the other. This means that the components of one model are totally contained within the components of another models. For example, a random intercept ME model with be a subset of a random intercept and slope ME model, since the latter has the features of the random intercept ME and more.\n",
    "\n",
    "In order to test between test these model configurations, I will get a p-value from using the log-likelihood diferrence between the 2 models. If the p-value is below my set significance level, then the larger model explains significantly more variance than the smaller model, thus the larger is preferred. If the p-value is above my set significance level, then the larger model and the smaller model explain around the same amount of variance, thus the smaller model should be kept since it is more efficient."
   ]
  },
  {
   "cell_type": "code",
   "execution_count": 40,
   "metadata": {},
   "outputs": [],
   "source": [
    "from scipy.stats import chi2\n",
    "\n",
    "# set up method to get p-value from likelihood ratio\n",
    "def likelihood_ratio_test(bigmodel, smallmodel):\n",
    "    likelihoodratio=2*(bigmodel.llf-smallmodel.llf)\n",
    "    df=bigmodel.df_modelwc-smallmodel.df_modelwc\n",
    "    p=chi2.sf(likelihoodratio, df)\n",
    "    return p"
   ]
  },
  {
   "cell_type": "code",
   "execution_count": 41,
   "metadata": {},
   "outputs": [
    {
     "name": "stdout",
     "output_type": "stream",
     "text": [
      "Comparing the Random Intercept, Random Education Slope model to the Fixed Intercept, Random Education Slope model: \n",
      "0.0979435463401126\n"
     ]
    }
   ],
   "source": [
    "lrt=likelihood_ratio_test(arise_result,arse_result)\n",
    "print('Comparing the Random Intercept, Random Education Slope model to the Fixed Intercept, Random Education Slope model: \\n{}'.format(lrt))"
   ]
  },
  {
   "cell_type": "markdown",
   "metadata": {},
   "source": [
    "The __Random Intercept, Random Education Slope__ configuration is a better model than the Fixed Intercept, Random Education Slope model"
   ]
  },
  {
   "cell_type": "code",
   "execution_count": 42,
   "metadata": {},
   "outputs": [
    {
     "name": "stdout",
     "output_type": "stream",
     "text": [
      "Comparing the Random Intercept, Random Race Slope model to the Fixed Intercept, Random Race Slope model: \n",
      "nan\n",
      "\n",
      "Comparing the Fixed Intercept, Random Race Slope to the Random Intercept, Random Race Slope model: \n",
      "nan\n"
     ]
    }
   ],
   "source": [
    "lrt=likelihood_ratio_test(arisr_result,arsr_result)\n",
    "print('Comparing the Random Intercept, Random Race Slope model to the Fixed Intercept, Random Race Slope model: \\n{}'.format(lrt))\n",
    "\n",
    "lrt=likelihood_ratio_test(arsr_result,arisr_result)\n",
    "print('\\nComparing the Fixed Intercept, Random Race Slope to the Random Intercept, Random Race Slope model: \\n{}'.format(lrt))"
   ]
  },
  {
   "cell_type": "markdown",
   "metadata": {},
   "source": [
    "I cannot directly compare these two models because the Fixed Intercept, Random Race Slope model's features are not totally contained within the Random Intercept, Random Race Slope model as logic expects.\n",
    "\n",
    "This is because the race variable is categorical, when it is not accompanied with a random intercept the 'Black' category of race becomes the intercept and takes on the role of a parameter itself. As such both the random race slope and the random intercept slope are models with an equal number of features and the same number of variables. And looking at the features of both models, they are extremely similar, having nearly identical first-level features.\n",
    "\n",
    "I can get around this problem by comparing the 2 configurations to the same things"
   ]
  },
  {
   "cell_type": "code",
   "execution_count": 43,
   "metadata": {},
   "outputs": [
    {
     "name": "stdout",
     "output_type": "stream",
     "text": [
      "Comparing the Random Intercept, Random Education Slope model to the Random Intercept model: \n",
      "4.11846055617989e-14\n",
      "\n",
      "Comparing the Random Intercept, Random Race Slope model to the Random Intercept model: \n",
      "1.3160433356930436e-06\n",
      "\n",
      "Comparing the Fixed Intercept, Random Race Slope model to the Random Intercept model: \n",
      "1.3103376842078766e-06\n"
     ]
    }
   ],
   "source": [
    "lrt=likelihood_ratio_test(arise_result,ari_result)\n",
    "print('Comparing the Random Intercept, Random Education Slope model to the Random Intercept model: \\n{}'.format(lrt))\n",
    "\n",
    "lrt=likelihood_ratio_test(arisr_result,ari_result)\n",
    "print('\\nComparing the Random Intercept, Random Race Slope model to the Random Intercept model: \\n{}'.format(lrt))\n",
    "\n",
    "lrt=likelihood_ratio_test(arsr_result,ari_result)\n",
    "print('\\nComparing the Fixed Intercept, Random Race Slope model to the Random Intercept model: \\n{}'.format(lrt))"
   ]
  },
  {
   "cell_type": "markdown",
   "metadata": {},
   "source": [
    "Here, I have compared the Random Intercept, Random Education Slope model, the Random Intercept, Random Race Slope model, and the Fixed Intercept, Random Race Slope model all against the Random Intercept model. This way, I will be able to judge how all these configurations which cannot directly be compared. \n",
    "\n",
    "All of the comparasons indicate that the Random Intercept model performs the worst of all the configurations.\n",
    "\n",
    "Both the Random Intercept, Random Race Slope model and the Fixed Intercept, Random Race Slope perform very similarly against the Random Intercept model, unsuprising condisering how similar the models are in general.\n",
    "\n",
    "The Random Intercept, Random Education Slope model perform much better than both of the Random Race slope models, having a much more significant difference in performance. __Random Intercept, Random Education Slope__ will be the random effect configuration I move forward with."
   ]
  },
  {
   "cell_type": "markdown",
   "metadata": {},
   "source": [
    "# Checking Model Residuals\n",
    "\n",
    "Though I know which RE configuration models best, I still need to be sure that I have a good model.  This is still linear regression, and as such the model residuals must satisfying certain conditions before I can be sure that my model is reliable.\n",
    "\n",
    "First, the residuals must be normally distributed. Second, the data must be relatively homoscedastic, meaning the resudiuals must be relatively even amoung the income values. Last, the residuals must be equally distributed amoung parameter values, in this case education and race."
   ]
  },
  {
   "cell_type": "code",
   "execution_count": 44,
   "metadata": {},
   "outputs": [],
   "source": [
    "# get model residuals\n",
    "work_mult['residual_age']=arise_result.resid"
   ]
  },
  {
   "cell_type": "markdown",
   "metadata": {},
   "source": [
    "## Normal Distributed Residuals"
   ]
  },
  {
   "cell_type": "code",
   "execution_count": 45,
   "metadata": {},
   "outputs": [
    {
     "data": {
      "image/png": "[encoded data removed]",
      "text/plain": [
       "<Figure size 432x288 with 1 Axes>"
      ]
     },
     "metadata": {},
     "output_type": "display_data"
    }
   ],
   "source": [
    "# Are residuals normally distributed?\n",
    "plt.hist(work_mult['residual_age'])\n",
    "plt.title('Distribution of Residuals')\n",
    "plt.show()"
   ]
  },
  {
   "cell_type": "markdown",
   "metadata": {},
   "source": [
    "Though it is ever so slightly skewed, the residuals are normal enough."
   ]
  },
  {
   "cell_type": "markdown",
   "metadata": {},
   "source": [
    "## Evenly distributed Residuals amoung Parameters"
   ]
  },
  {
   "cell_type": "code",
   "execution_count": 46,
   "metadata": {
    "scrolled": true
   },
   "outputs": [
    {
     "data": {
      "image/png": "[encoded data removed]",
      "text/plain": [
       "<Figure size 432x288 with 1 Axes>"
      ]
     },
     "metadata": {},
     "output_type": "display_data"
    }
   ],
   "source": [
    "# Is variance constant for all values of the predictors?\n",
    "plt.scatter(work_mult['EDUC'],work_mult['residual_age'])\n",
    "plt.title('Residuals by Education Level')\n",
    "plt.show()"
   ]
  },
  {
   "cell_type": "code",
   "execution_count": 47,
   "metadata": {
    "scrolled": false
   },
   "outputs": [
    {
     "data": {
      "image/png": "[encoded data removed]",
      "text/plain": [
       "<Figure size 432x288 with 1 Axes>"
      ]
     },
     "metadata": {},
     "output_type": "display_data"
    }
   ],
   "source": [
    "# Is variance constant for all values of the predictors?\n",
    "plt.scatter(work_mult['Race'],work_mult['residual_age'])\n",
    "plt.title('Residuals by Race')\n",
    "plt.show()"
   ]
  },
  {
   "cell_type": "markdown",
   "metadata": {},
   "source": [
    "This looks great too. There is a little inconsistency in the education level residuals, but overall both features seem pretty balanced."
   ]
  },
  {
   "cell_type": "markdown",
   "metadata": {},
   "source": [
    "## Homoscedastic Residuals"
   ]
  },
  {
   "cell_type": "code",
   "execution_count": 48,
   "metadata": {},
   "outputs": [
    {
     "data": {
      "image/png": "[encoded data removed]",
      "text/plain": [
       "<Figure size 432x288 with 1 Axes>"
      ]
     },
     "metadata": {},
     "output_type": "display_data"
    }
   ],
   "source": [
    "# Is variance constant for all values of the outcome?\n",
    "plt.scatter(work_mult['Income'],work_mult['residual_age'])\n",
    "plt.title('Residuals by Income values')\n",
    "plt.show()"
   ]
  },
  {
   "cell_type": "markdown",
   "metadata": {},
   "source": [
    "This doesn't look that good. Although the error distribution seems to have a similar total variance amoung Income values, the mean of those error values varies largely per data value, going from about -4000 to 6000. That big a gap is too big for the numbers I've been esitmating. I'll have to fix this.\n",
    "\n",
    "I can do this be performing a non-linear transformation on the income variable. \n",
    "\n",
    "I will take the square root of the income variable. So my model's predictions will now be relative to the square root of the respondant's income. "
   ]
  },
  {
   "cell_type": "code",
   "execution_count": 49,
   "metadata": {},
   "outputs": [
    {
     "data": {
      "text/plain": [
       "count     19526.000000\n",
       "mean      39404.385934\n",
       "std       27410.631068\n",
       "min         363.000000\n",
       "25%       17063.750000\n",
       "50%       33585.000000\n",
       "75%       56836.000000\n",
       "max      116270.000000\n",
       "Name: Income, dtype: float64"
      ]
     },
     "execution_count": 49,
     "metadata": {},
     "output_type": "execute_result"
    }
   ],
   "source": [
    "work_mult['Income'].describe()"
   ]
  },
  {
   "cell_type": "markdown",
   "metadata": {},
   "source": [
    "# Running Square Root Income Model"
   ]
  },
  {
   "cell_type": "code",
   "execution_count": 50,
   "metadata": {},
   "outputs": [],
   "source": [
    "work_mult['IncomeSqrt'] = np.sqrt(work_mult['Income'])"
   ]
  },
  {
   "cell_type": "code",
   "execution_count": 51,
   "metadata": {},
   "outputs": [
    {
     "name": "stdout",
     "output_type": "stream",
     "text": [
      "Running Square Root Income model\n",
      "           Mixed Linear Model Regression Results\n",
      "============================================================\n",
      "Model:              MixedLM Dependent Variable: IncomeSqrt  \n",
      "No. Observations:   19526   Method:             REML        \n",
      "No. Groups:         72      Scale:              4182.6001   \n",
      "Min. group size:    39      Likelihood:         -109233.5371\n",
      "Max. group size:    436     Converged:          Yes         \n",
      "Mean group size:    271.2                                   \n",
      "------------------------------------------------------------\n",
      "                  Coef.  Std.Err.   z    P>|z| [0.025 0.975]\n",
      "------------------------------------------------------------\n",
      "Intercept         37.905    3.288 11.528 0.000 31.460 44.349\n",
      "Race[T.Other]     20.239    1.955 10.352 0.000 16.407 24.072\n",
      "Race[T.White]     31.201    1.305 23.910 0.000 28.643 33.759\n",
      "EDUC               8.665    0.268 32.284 0.000  8.139  9.191\n",
      "Group Var        253.030    1.839                           \n",
      "Group x EDUC Cov -15.266    0.139                           \n",
      "EDUC Var           2.572    0.013                           \n",
      "============================================================\n",
      "\n",
      "done!\n"
     ]
    }
   ],
   "source": [
    "print('Running Square Root Income model')\n",
    "arise_sqrt_model = smf.mixedlm(\"IncomeSqrt ~ Race + EDUC\",data=work_mult,groups=work_mult['AGE'], re_formula=\"~EDUC\")\n",
    "arise_sqrt_result = arise_sqrt_model.fit(method='nm', maxiter=200, full_output=True)\n",
    "print(arise_sqrt_result.summary())\n",
    "print(\"done!\")"
   ]
  },
  {
   "cell_type": "code",
   "execution_count": 52,
   "metadata": {},
   "outputs": [],
   "source": [
    "# get model residuals\n",
    "work_mult['residual_age_sqrt']=arise_sqrt_result.resid"
   ]
  },
  {
   "cell_type": "markdown",
   "metadata": {},
   "source": [
    "## Normally Distributed Residuals"
   ]
  },
  {
   "cell_type": "code",
   "execution_count": 53,
   "metadata": {
    "scrolled": true
   },
   "outputs": [
    {
     "data": {
      "image/png": "[encoded data removed]",
      "text/plain": [
       "<Figure size 432x288 with 1 Axes>"
      ]
     },
     "metadata": {},
     "output_type": "display_data"
    }
   ],
   "source": [
    "# Are residuals normally distributed?\n",
    "plt.hist(work_mult['residual_age_sqrt'])\n",
    "plt.title('Distribution of Square Root Residuals')\n",
    "plt.show()"
   ]
  },
  {
   "cell_type": "markdown",
   "metadata": {},
   "source": [
    "The residuals were somewhat skewed before, but now they look almost perfectly normal. It looks like the model has improved in more than the intended way, great!"
   ]
  },
  {
   "cell_type": "markdown",
   "metadata": {},
   "source": [
    "## Evenly distributed Residuals amoung Parameters"
   ]
  },
  {
   "cell_type": "code",
   "execution_count": 54,
   "metadata": {
    "scrolled": true
   },
   "outputs": [
    {
     "data": {
      "image/png": "[encoded data removed]",
      "text/plain": [
       "<Figure size 432x288 with 1 Axes>"
      ]
     },
     "metadata": {},
     "output_type": "display_data"
    }
   ],
   "source": [
    "# Is variance constant for all values of the predictors?\n",
    "plt.scatter(work_mult['EDUC'],work_mult['residual_age_sqrt'])\n",
    "plt.title('Square Root Residuals by Education Level')\n",
    "plt.show()"
   ]
  },
  {
   "cell_type": "code",
   "execution_count": 55,
   "metadata": {
    "scrolled": false
   },
   "outputs": [
    {
     "data": {
      "image/png": "[encoded data removed]",
      "text/plain": [
       "<Figure size 432x288 with 1 Axes>"
      ]
     },
     "metadata": {},
     "output_type": "display_data"
    }
   ],
   "source": [
    "# Is variance constant for all values of the predictors?\n",
    "plt.scatter(work_mult['Race'],work_mult['residual_age_sqrt'])\n",
    "plt.title('Square Root Residuals by Race')\n",
    "plt.show()"
   ]
  },
  {
   "cell_type": "markdown",
   "metadata": {},
   "source": [
    "The residual's distribution about the parameters also looks even better, especially for education level."
   ]
  },
  {
   "cell_type": "markdown",
   "metadata": {},
   "source": [
    "## Homoscedastic Residuals"
   ]
  },
  {
   "cell_type": "code",
   "execution_count": 56,
   "metadata": {
    "scrolled": true
   },
   "outputs": [
    {
     "data": {
      "image/png": "[encoded data removed]",
      "text/plain": [
       "<Figure size 432x288 with 1 Axes>"
      ]
     },
     "metadata": {},
     "output_type": "display_data"
    }
   ],
   "source": [
    "# Is variance constant for all values of the outcome?\n",
    "plt.scatter(work_mult['IncomeSqrt'],work_mult['residual_age_sqrt'])\n",
    "plt.title('Residuals by Square Root Income values')\n",
    "plt.show()"
   ]
  },
  {
   "cell_type": "markdown",
   "metadata": {},
   "source": [
    "The residuals are definitely also much improved. The gap between the residual for the highest and the lowest Income values is noq only about -160 and 110. That is very reasonable when predicting Income values which average to be about 30,000.\n",
    "\n",
    "Still, it retains the same slanted slopt that it had before. And try as I might with other combination of linear transformations, I was not about to remove it. I may be able to fix the problem with Weighted Regression, where I apply a scaler to the Income variable based on it's residuals at that value. However, the output would become much harder to interperet for the kind of analysis I want to perform."
   ]
  },
  {
   "cell_type": "markdown",
   "metadata": {},
   "source": [
    "# Interpreting Model Results"
   ]
  },
  {
   "cell_type": "code",
   "execution_count": 57,
   "metadata": {},
   "outputs": [
    {
     "name": "stdout",
     "output_type": "stream",
     "text": [
      "Running Square Root Income model\n",
      "           Mixed Linear Model Regression Results\n",
      "============================================================\n",
      "Model:              MixedLM Dependent Variable: IncomeSqrt  \n",
      "No. Observations:   19526   Method:             REML        \n",
      "No. Groups:         72      Scale:              4182.6001   \n",
      "Min. group size:    39      Likelihood:         -109233.5371\n",
      "Max. group size:    436     Converged:          Yes         \n",
      "Mean group size:    271.2                                   \n",
      "------------------------------------------------------------\n",
      "                  Coef.  Std.Err.   z    P>|z| [0.025 0.975]\n",
      "------------------------------------------------------------\n",
      "Intercept         37.905    3.288 11.528 0.000 31.460 44.349\n",
      "Race[T.Other]     20.239    1.955 10.352 0.000 16.407 24.072\n",
      "Race[T.White]     31.201    1.305 23.910 0.000 28.643 33.759\n",
      "EDUC               8.665    0.268 32.284 0.000  8.139  9.191\n",
      "Group Var        253.030    1.839                           \n",
      "Group x EDUC Cov -15.266    0.139                           \n",
      "EDUC Var           2.572    0.013                           \n",
      "============================================================\n",
      "\n",
      "done!\n"
     ]
    }
   ],
   "source": [
    "print('Running Square Root Income model')\n",
    "arise_sqrt_model = smf.mixedlm(\"IncomeSqrt ~ Race + EDUC\",data=work_mult,groups=work_mult['AGE'], re_formula=\"~EDUC\")\n",
    "arise_sqrt_result = arise_sqrt_model.fit(method='nm', maxiter=200, full_output=True)\n",
    "print(arise_sqrt_result.summary())\n",
    "print(\"done!\")"
   ]
  },
  {
   "cell_type": "code",
   "execution_count": 61,
   "metadata": {},
   "outputs": [],
   "source": [
    "white = []\n",
    "black = []\n",
    "other = []\n",
    "indx = []\n",
    "for educ in range(5,21):\n",
    "    indx.append('{} years of Education'.format(educ))\n",
    "    for race in ['White','Black','Other']:\n",
    "        if race == 'White':\n",
    "            inc = (37.905 + 31.201 + 8.665*educ)**2\n",
    "            white.append('${}'.format(round(inc,2)))\n",
    "        if race == 'Black':\n",
    "            inc = (37.905 + 8.665*educ)**2\n",
    "            black.append('${}'.format(round(inc,2)))\n",
    "        if race == 'Other':\n",
    "            inc = (37.905 + 20.239 + 8.665*educ)**2\n",
    "            other.append('${}'.format(round(inc,2)))     "
   ]
  },
  {
   "cell_type": "code",
   "execution_count": 62,
   "metadata": {},
   "outputs": [],
   "source": [
    "results = pd.DataFrame(index=indx)\n",
    "results[\"White\"] = white\n",
    "results[\"Black\"] = black\n",
    "results[\"Other\"] = other"
   ]
  },
  {
   "cell_type": "code",
   "execution_count": 63,
   "metadata": {},
   "outputs": [
    {
     "data": {
      "text/html": [
       "<div>\n",
       "<style scoped>\n",
       "    .dataframe tbody tr th:only-of-type {\n",
       "        vertical-align: middle;\n",
       "    }\n",
       "\n",
       "    .dataframe tbody tr th {\n",
       "        vertical-align: top;\n",
       "    }\n",
       "\n",
       "    .dataframe thead th {\n",
       "        text-align: right;\n",
       "    }\n",
       "</style>\n",
       "<table border=\"1\" class=\"dataframe\">\n",
       "  <thead>\n",
       "    <tr style=\"text-align: right;\">\n",
       "      <th></th>\n",
       "      <th>White</th>\n",
       "      <th>Black</th>\n",
       "      <th>Other</th>\n",
       "    </tr>\n",
       "  </thead>\n",
       "  <tbody>\n",
       "    <tr>\n",
       "      <th>5 years of Education</th>\n",
       "      <td>$12640.73</td>\n",
       "      <td>$6598.31</td>\n",
       "      <td>$10295.96</td>\n",
       "    </tr>\n",
       "    <tr>\n",
       "      <th>6 years of Education</th>\n",
       "      <td>$14664.24</td>\n",
       "      <td>$8081.11</td>\n",
       "      <td>$12129.5</td>\n",
       "    </tr>\n",
       "    <tr>\n",
       "      <th>7 years of Education</th>\n",
       "      <td>$16837.92</td>\n",
       "      <td>$9714.07</td>\n",
       "      <td>$14113.2</td>\n",
       "    </tr>\n",
       "    <tr>\n",
       "      <th>8 years of Education</th>\n",
       "      <td>$19161.76</td>\n",
       "      <td>$11497.2</td>\n",
       "      <td>$16247.07</td>\n",
       "    </tr>\n",
       "    <tr>\n",
       "      <th>9 years of Education</th>\n",
       "      <td>$21635.76</td>\n",
       "      <td>$13430.49</td>\n",
       "      <td>$18531.1</td>\n",
       "    </tr>\n",
       "    <tr>\n",
       "      <th>10 years of Education</th>\n",
       "      <td>$24259.93</td>\n",
       "      <td>$15513.95</td>\n",
       "      <td>$20965.3</td>\n",
       "    </tr>\n",
       "    <tr>\n",
       "      <th>11 years of Education</th>\n",
       "      <td>$27034.27</td>\n",
       "      <td>$17747.57</td>\n",
       "      <td>$23549.66</td>\n",
       "    </tr>\n",
       "    <tr>\n",
       "      <th>12 years of Education</th>\n",
       "      <td>$29958.76</td>\n",
       "      <td>$20131.35</td>\n",
       "      <td>$26284.19</td>\n",
       "    </tr>\n",
       "    <tr>\n",
       "      <th>13 years of Education</th>\n",
       "      <td>$33033.43</td>\n",
       "      <td>$22665.3</td>\n",
       "      <td>$29168.88</td>\n",
       "    </tr>\n",
       "    <tr>\n",
       "      <th>14 years of Education</th>\n",
       "      <td>$36258.25</td>\n",
       "      <td>$25349.42</td>\n",
       "      <td>$32203.74</td>\n",
       "    </tr>\n",
       "    <tr>\n",
       "      <th>15 years of Education</th>\n",
       "      <td>$39633.24</td>\n",
       "      <td>$28183.69</td>\n",
       "      <td>$35388.76</td>\n",
       "    </tr>\n",
       "    <tr>\n",
       "      <th>16 years of Education</th>\n",
       "      <td>$43158.4</td>\n",
       "      <td>$31168.14</td>\n",
       "      <td>$38723.94</td>\n",
       "    </tr>\n",
       "    <tr>\n",
       "      <th>17 years of Education</th>\n",
       "      <td>$46833.72</td>\n",
       "      <td>$34302.74</td>\n",
       "      <td>$42209.29</td>\n",
       "    </tr>\n",
       "    <tr>\n",
       "      <th>18 years of Education</th>\n",
       "      <td>$50659.21</td>\n",
       "      <td>$37587.52</td>\n",
       "      <td>$45844.8</td>\n",
       "    </tr>\n",
       "    <tr>\n",
       "      <th>19 years of Education</th>\n",
       "      <td>$54634.86</td>\n",
       "      <td>$41022.45</td>\n",
       "      <td>$49630.48</td>\n",
       "    </tr>\n",
       "    <tr>\n",
       "      <th>20 years of Education</th>\n",
       "      <td>$58760.67</td>\n",
       "      <td>$44607.55</td>\n",
       "      <td>$53566.33</td>\n",
       "    </tr>\n",
       "  </tbody>\n",
       "</table>\n",
       "</div>"
      ],
      "text/plain": [
       "                           White      Black      Other\n",
       "5 years of Education   $12640.73   $6598.31  $10295.96\n",
       "6 years of Education   $14664.24   $8081.11   $12129.5\n",
       "7 years of Education   $16837.92   $9714.07   $14113.2\n",
       "8 years of Education   $19161.76   $11497.2  $16247.07\n",
       "9 years of Education   $21635.76  $13430.49   $18531.1\n",
       "10 years of Education  $24259.93  $15513.95   $20965.3\n",
       "11 years of Education  $27034.27  $17747.57  $23549.66\n",
       "12 years of Education  $29958.76  $20131.35  $26284.19\n",
       "13 years of Education  $33033.43   $22665.3  $29168.88\n",
       "14 years of Education  $36258.25  $25349.42  $32203.74\n",
       "15 years of Education  $39633.24  $28183.69  $35388.76\n",
       "16 years of Education   $43158.4  $31168.14  $38723.94\n",
       "17 years of Education  $46833.72  $34302.74  $42209.29\n",
       "18 years of Education  $50659.21  $37587.52   $45844.8\n",
       "19 years of Education  $54634.86  $41022.45  $49630.48\n",
       "20 years of Education  $58760.67  $44607.55  $53566.33"
      ]
     },
     "metadata": {},
     "output_type": "display_data"
    }
   ],
   "source": [
    "display(results)"
   ]
  },
  {
   "cell_type": "markdown",
   "metadata": {},
   "source": [
    "All the modeling varibles have extremely low p-values, so my results are very significant. Also keep in mind that because of the nature of linear regression and categorial variabled, the model interpreted being black as the base case. My fixed effect linear equation is: \n",
    "\n",
    "$sqrt(Income) = 39.809 + 8.442 * Education + 22.323 * ifother + 32.038 * ifwhite$\n",
    "\n",
    "where 'ifother' is 1 if the person is not white or black, and zero otherwise, and 'ifwhite' is equal to 1 is the respondant is white and 0 otherwise. \n",
    "\n",
    "This means race gives has quite the effect. A white person with 5 years of education makes an average of \\$12,640.73 a year, while the average black person with similar education and age makes only \\$6,598.31 a year, the average non-white, non-black making \\$10295.96 a year. It takes the average non-white, non-black person a little more than 1 year of education before they reach the average white starting point, and by then the average white person is making more than \\$14664.24 a year. It takes the average black person another 4 additional years of education, 9 in total, to reach the same starting point as the average white person, and by then the average white person is making \\$21635.76 a year. \n",
    "\n",
    "So, while the difference between races is extremely large, it can be offset by education. In fact, the difference between the average salary at 5 years of schoolings to 20 years of schooling is even larger.  For whites, the difference is \\$13,009.00 versus \\$57,930.23. For blacks, the difference is \\$6,727.12 versus \\$43,534.41. And for all other races, the difference is \\$10,887.25 versus \\$53348.06. These ranges are much larger than the gaps between races. In fact, the gaps between completing high school (12 years), college (16 years), and 4 postgraduate years (20 years) are each larger on their own than any gap between average incomes of different races of similar education levels.\n",
    "\n",
    "So, which is more important when determining income? Education or Race? \n",
    "\n",
    "The answer is Education. Even though race is clearly proven by the data to be an important factor, the difference between education levels has multiple gaps larger than the biggest racial gap. The GSS Data shows that years spent is school is more important than race when determining income between American individuals of the same age. "
   ]
  },
  {
   "cell_type": "markdown",
   "metadata": {},
   "source": [
    "## References\n",
    "\n",
    "http://gss.norc.org/"
   ]
  }
 ],
 "metadata": {
  "kernelspec": {
   "display_name": "Python 3",
   "language": "python",
   "name": "python3"
  },
  "language_info": {
   "codemirror_mode": {
    "name": "ipython",
    "version": 3
   },
   "file_extension": ".py",
   "mimetype": "text/x-python",
   "name": "python",
   "nbconvert_exporter": "python",
   "pygments_lexer": "ipython3",
   "version": "3.6.4"
  }
 },
 "nbformat": 4,
 "nbformat_minor": 2
}
