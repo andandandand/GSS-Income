{
 "cells": [
  {
   "cell_type": "code",
   "execution_count": 1,
   "metadata": {},
   "outputs": [],
   "source": [
    "import numpy as np\n",
    "import pandas as pd\n",
    "import scipy.stats as stats\n",
    "import matplotlib.pyplot as plt\n",
    "import seaborn as sns\n",
    "%matplotlib inline\n",
    "import savReaderWriter"
   ]
  },
  {
   "cell_type": "markdown",
   "metadata": {},
   "source": [
    "# Income in America\n",
    "\n",
    "I want to determine what the most important factors are in detemrining an individuals income in America. \n",
    "\n",
    "Specifically, I want to know if years of education or race are more influentail in determining income.\n",
    "\n",
    "To do this, I will using data from the General Social Survey (GSS) which contains a multitude of information gathered from people living in the United States gathered around every 2 years since 1972 and put it in a linear regression model. \n",
    "\n",
    "I will use a standard significance level of 0.05 for this excersize.\n",
    "\n",
    "I will begin by importing my data"
   ]
  },
  {
   "cell_type": "code",
   "execution_count": 2,
   "metadata": {},
   "outputs": [],
   "source": [
    "# function to the GSS sav files and return them as dataframes\n",
    "def import_sav(filepath):\n",
    "    with savReaderWriter.SavReader(filepath) as reader:\n",
    "        header = reader.header\n",
    "        records = reader.all()\n",
    "        header_str = []\n",
    "        for feature in header:\n",
    "            header_str.append(feature.decode('ascii'))\n",
    "        df = pd.DataFrame(records, columns = header_str)\n",
    "        return df"
   ]
  },
  {
   "cell_type": "code",
   "execution_count": 3,
   "metadata": {},
   "outputs": [],
   "source": [
    "# import the sav files\n",
    "work00 = import_sav('C:\\\\Code\\\\SSP\\\\work00.sav')\n",
    "work02 = import_sav('C:\\\\Code\\\\SSP\\\\work02.sav')\n",
    "work04 = import_sav('C:\\\\Code\\\\SSP\\\\work04.sav')\n",
    "work06 = import_sav('C:\\\\Code\\\\SSP\\\\work06.sav')\n",
    "work08 = import_sav('C:\\\\Code\\\\SSP\\\\work08.sav')\n",
    "work10 = import_sav('C:\\\\Code\\\\SSP\\\\work10.sav')\n",
    "work12 = import_sav('C:\\\\Code\\\\SSP\\\\work12.sav')\n",
    "work14 = import_sav('C:\\\\Code\\\\SSP\\\\work14.sav')\n",
    "work16 = import_sav('C:\\\\Code\\\\SSP\\\\work16.sav')"
   ]
  },
  {
   "cell_type": "markdown",
   "metadata": {},
   "source": [
    "Now that I have the the different GSS years, I need to combine them into one dataframe."
   ]
  },
  {
   "cell_type": "code",
   "execution_count": 4,
   "metadata": {},
   "outputs": [],
   "source": [
    "# create a list of common features between all GSS years\n",
    "shared_features = list(set(work16.columns).intersection(work14.columns))\n",
    "shared_features = list(set(shared_features).intersection(work12.columns))\n",
    "shared_features = list(set(shared_features).intersection(work10.columns))\n",
    "shared_features = list(set(shared_features).intersection(work08.columns))\n",
    "shared_features = list(set(shared_features).intersection(work06.columns))\n",
    "shared_features = list(set(shared_features).intersection(work04.columns))\n",
    "shared_features = list(set(shared_features).intersection(work02.columns))\n",
    "shared_features = list(set(shared_features).intersection(work00.columns))"
   ]
  },
  {
   "cell_type": "code",
   "execution_count": 5,
   "metadata": {},
   "outputs": [
    {
     "data": {
      "text/plain": [
       "407"
      ]
     },
     "execution_count": 5,
     "metadata": {},
     "output_type": "execute_result"
    }
   ],
   "source": [
    "len(shared_features)"
   ]
  },
  {
   "cell_type": "code",
   "execution_count": 6,
   "metadata": {},
   "outputs": [],
   "source": [
    "work_mult = pd.concat([work16[shared_features],work14[shared_features],work12[shared_features],\n",
    "                       work10[shared_features],work08[shared_features],work06[shared_features],work04[shared_features],\n",
    "                       work02[shared_features],work00[shared_features]])"
   ]
  },
  {
   "cell_type": "code",
   "execution_count": 7,
   "metadata": {},
   "outputs": [
    {
     "data": {
      "text/plain": [
       "(24350, 407)"
      ]
     },
     "execution_count": 7,
     "metadata": {},
     "output_type": "execute_result"
    }
   ],
   "source": [
    "work_mult.shape"
   ]
  },
  {
   "cell_type": "code",
   "execution_count": 8,
   "metadata": {},
   "outputs": [
    {
     "data": {
      "text/html": [
       "<div>\n",
       "<style scoped>\n",
       "    .dataframe tbody tr th:only-of-type {\n",
       "        vertical-align: middle;\n",
       "    }\n",
       "\n",
       "    .dataframe tbody tr th {\n",
       "        vertical-align: top;\n",
       "    }\n",
       "\n",
       "    .dataframe thead th {\n",
       "        text-align: right;\n",
       "    }\n",
       "</style>\n",
       "<table border=\"1\" class=\"dataframe\">\n",
       "  <thead>\n",
       "    <tr style=\"text-align: right;\">\n",
       "      <th></th>\n",
       "      <th>ETH2</th>\n",
       "      <th>SIBS</th>\n",
       "      <th>GRASS</th>\n",
       "      <th>RACECEN1</th>\n",
       "      <th>LIBHOMO</th>\n",
       "      <th>WIDOWED</th>\n",
       "      <th>MARWHT</th>\n",
       "      <th>WRKWAYUP</th>\n",
       "      <th>POSTLIFE</th>\n",
       "      <th>FORMWT</th>\n",
       "      <th>...</th>\n",
       "      <th>HOMPOP</th>\n",
       "      <th>ZODIAC</th>\n",
       "      <th>PRESTG10</th>\n",
       "      <th>RELSP6</th>\n",
       "      <th>WHOELSE1</th>\n",
       "      <th>NATCRIME</th>\n",
       "      <th>YEAR</th>\n",
       "      <th>RELITEN</th>\n",
       "      <th>REALRINC</th>\n",
       "      <th>GENDER7</th>\n",
       "    </tr>\n",
       "  </thead>\n",
       "  <tbody>\n",
       "    <tr>\n",
       "      <th>0</th>\n",
       "      <td>11.0</td>\n",
       "      <td>2.0</td>\n",
       "      <td>0.0</td>\n",
       "      <td>1.0</td>\n",
       "      <td>2.0</td>\n",
       "      <td>2.0</td>\n",
       "      <td>3.0</td>\n",
       "      <td>4.0</td>\n",
       "      <td>2.0</td>\n",
       "      <td>1.0</td>\n",
       "      <td>...</td>\n",
       "      <td>5.0</td>\n",
       "      <td>11.0</td>\n",
       "      <td>60.0</td>\n",
       "      <td>0.0</td>\n",
       "      <td>2.0</td>\n",
       "      <td>1.0</td>\n",
       "      <td>2016.0</td>\n",
       "      <td>4.0</td>\n",
       "      <td>164382.03756</td>\n",
       "      <td>0.0</td>\n",
       "    </tr>\n",
       "    <tr>\n",
       "      <th>1</th>\n",
       "      <td>0.0</td>\n",
       "      <td>3.0</td>\n",
       "      <td>1.0</td>\n",
       "      <td>1.0</td>\n",
       "      <td>0.0</td>\n",
       "      <td>0.0</td>\n",
       "      <td>1.0</td>\n",
       "      <td>2.0</td>\n",
       "      <td>1.0</td>\n",
       "      <td>1.0</td>\n",
       "      <td>...</td>\n",
       "      <td>1.0</td>\n",
       "      <td>8.0</td>\n",
       "      <td>40.0</td>\n",
       "      <td>0.0</td>\n",
       "      <td>2.0</td>\n",
       "      <td>3.0</td>\n",
       "      <td>2016.0</td>\n",
       "      <td>4.0</td>\n",
       "      <td>25740.00000</td>\n",
       "      <td>0.0</td>\n",
       "    </tr>\n",
       "    <tr>\n",
       "      <th>2</th>\n",
       "      <td>21.0</td>\n",
       "      <td>3.0</td>\n",
       "      <td>2.0</td>\n",
       "      <td>1.0</td>\n",
       "      <td>2.0</td>\n",
       "      <td>2.0</td>\n",
       "      <td>0.0</td>\n",
       "      <td>0.0</td>\n",
       "      <td>1.0</td>\n",
       "      <td>1.0</td>\n",
       "      <td>...</td>\n",
       "      <td>2.0</td>\n",
       "      <td>12.0</td>\n",
       "      <td>38.0</td>\n",
       "      <td>0.0</td>\n",
       "      <td>2.0</td>\n",
       "      <td>1.0</td>\n",
       "      <td>2016.0</td>\n",
       "      <td>1.0</td>\n",
       "      <td>0.00000</td>\n",
       "      <td>0.0</td>\n",
       "    </tr>\n",
       "    <tr>\n",
       "      <th>3</th>\n",
       "      <td>0.0</td>\n",
       "      <td>3.0</td>\n",
       "      <td>0.0</td>\n",
       "      <td>1.0</td>\n",
       "      <td>2.0</td>\n",
       "      <td>2.0</td>\n",
       "      <td>3.0</td>\n",
       "      <td>1.0</td>\n",
       "      <td>1.0</td>\n",
       "      <td>1.0</td>\n",
       "      <td>...</td>\n",
       "      <td>6.0</td>\n",
       "      <td>4.0</td>\n",
       "      <td>35.0</td>\n",
       "      <td>41.0</td>\n",
       "      <td>2.0</td>\n",
       "      <td>2.0</td>\n",
       "      <td>2016.0</td>\n",
       "      <td>3.0</td>\n",
       "      <td>5265.00000</td>\n",
       "      <td>0.0</td>\n",
       "    </tr>\n",
       "    <tr>\n",
       "      <th>4</th>\n",
       "      <td>2.0</td>\n",
       "      <td>2.0</td>\n",
       "      <td>1.0</td>\n",
       "      <td>1.0</td>\n",
       "      <td>2.0</td>\n",
       "      <td>2.0</td>\n",
       "      <td>0.0</td>\n",
       "      <td>0.0</td>\n",
       "      <td>2.0</td>\n",
       "      <td>1.0</td>\n",
       "      <td>...</td>\n",
       "      <td>3.0</td>\n",
       "      <td>8.0</td>\n",
       "      <td>31.0</td>\n",
       "      <td>0.0</td>\n",
       "      <td>2.0</td>\n",
       "      <td>0.0</td>\n",
       "      <td>2016.0</td>\n",
       "      <td>4.0</td>\n",
       "      <td>936.00000</td>\n",
       "      <td>0.0</td>\n",
       "    </tr>\n",
       "  </tbody>\n",
       "</table>\n",
       "<p>5 rows × 407 columns</p>\n",
       "</div>"
      ],
      "text/plain": [
       "   ETH2  SIBS  GRASS  RACECEN1  LIBHOMO  WIDOWED  MARWHT  WRKWAYUP  POSTLIFE  \\\n",
       "0  11.0   2.0    0.0       1.0      2.0      2.0     3.0       4.0       2.0   \n",
       "1   0.0   3.0    1.0       1.0      0.0      0.0     1.0       2.0       1.0   \n",
       "2  21.0   3.0    2.0       1.0      2.0      2.0     0.0       0.0       1.0   \n",
       "3   0.0   3.0    0.0       1.0      2.0      2.0     3.0       1.0       1.0   \n",
       "4   2.0   2.0    1.0       1.0      2.0      2.0     0.0       0.0       2.0   \n",
       "\n",
       "   FORMWT   ...     HOMPOP  ZODIAC  PRESTG10  RELSP6  WHOELSE1  NATCRIME  \\\n",
       "0     1.0   ...        5.0    11.0      60.0     0.0       2.0       1.0   \n",
       "1     1.0   ...        1.0     8.0      40.0     0.0       2.0       3.0   \n",
       "2     1.0   ...        2.0    12.0      38.0     0.0       2.0       1.0   \n",
       "3     1.0   ...        6.0     4.0      35.0    41.0       2.0       2.0   \n",
       "4     1.0   ...        3.0     8.0      31.0     0.0       2.0       0.0   \n",
       "\n",
       "     YEAR  RELITEN      REALRINC  GENDER7  \n",
       "0  2016.0      4.0  164382.03756      0.0  \n",
       "1  2016.0      4.0   25740.00000      0.0  \n",
       "2  2016.0      1.0       0.00000      0.0  \n",
       "3  2016.0      3.0    5265.00000      0.0  \n",
       "4  2016.0      4.0     936.00000      0.0  \n",
       "\n",
       "[5 rows x 407 columns]"
      ]
     },
     "execution_count": 8,
     "metadata": {},
     "output_type": "execute_result"
    }
   ],
   "source": [
    "work_mult.head()"
   ]
  },
  {
   "cell_type": "markdown",
   "metadata": {},
   "source": [
    "# Cleaning Data\n",
    "\n",
    "I have all the survey years, now I must prepare the data for modeling.\n",
    "\n",
    "I will drop all the columns with null values, and clean my variables of interest. Since my data is survey data, their are many entries which refer to no applicable answers, no response, or other things of that nature. "
   ]
  },
  {
   "cell_type": "code",
   "execution_count": 9,
   "metadata": {},
   "outputs": [
    {
     "name": "stdout",
     "output_type": "stream",
     "text": [
      "dropped columns ['ISCO88', 'PAISCO88', 'MAISCO88', 'SPISCO88'] with nulls\n"
     ]
    }
   ],
   "source": [
    "null_col = work_mult.columns[work_mult.isna().any()].tolist()\n",
    "work_mult = work_mult.drop(null_col,1)\n",
    "print('dropped columns {} with nulls'.format(null_col))"
   ]
  },
  {
   "cell_type": "code",
   "execution_count": 10,
   "metadata": {},
   "outputs": [],
   "source": [
    "# drop people for whom income was non-applicable\n",
    "work_mult = work_mult.drop(work_mult[work_mult['CONINC']==0].index)"
   ]
  },
  {
   "cell_type": "code",
   "execution_count": 11,
   "metadata": {},
   "outputs": [],
   "source": [
    "work_mult['YEAR'] = work_mult['YEAR'].astype(int)"
   ]
  },
  {
   "cell_type": "code",
   "execution_count": 12,
   "metadata": {},
   "outputs": [],
   "source": [
    "# clean education level variable\n",
    "new_edu = []\n",
    "for num in work_mult['EDUC']:\n",
    "    num = int(num)\n",
    "    # drop 'don't know' and 'no response'\n",
    "    if num == 98 or num == 99:\n",
    "        new_edu.append(0)\n",
    "    # drop education levels where the respondant did not complete elementary school\n",
    "    elif num in range(1,5):\n",
    "        new_edu.append(0)\n",
    "    else:\n",
    "        new_edu.append(num)\n",
    "        \n",
    "work_mult['EDUC'] = new_edu "
   ]
  },
  {
   "cell_type": "code",
   "execution_count": 13,
   "metadata": {},
   "outputs": [],
   "source": [
    "work_mult = work_mult.drop(work_mult[work_mult['EDUC']==0].index)"
   ]
  },
  {
   "cell_type": "code",
   "execution_count": 14,
   "metadata": {},
   "outputs": [],
   "source": [
    "# create a new race variable with str categories\n",
    "new_race = []\n",
    "for num in work_mult['RACE']:\n",
    "    num = int(num)\n",
    "    if num == 1:\n",
    "        new_race.append('White')\n",
    "    elif num == 2:\n",
    "        new_race.append('Black')\n",
    "    elif num == 3:\n",
    "        new_race.append('Other')\n",
    "        \n",
    "work_mult['Race'] = new_race "
   ]
  },
  {
   "cell_type": "code",
   "execution_count": 15,
   "metadata": {},
   "outputs": [],
   "source": [
    "new_age = []\n",
    "for age in work_mult['AGE']:\n",
    "    age = int(age)\n",
    "    # only keep age value 89 or less, oldest respondants are 89\n",
    "    if age < 90:\n",
    "        new_age.append(age)\n",
    "    else:\n",
    "        new_age.append(0)\n",
    "        \n",
    "work_mult['AGE'] = new_age"
   ]
  },
  {
   "cell_type": "code",
   "execution_count": 16,
   "metadata": {},
   "outputs": [],
   "source": [
    "work_mult = work_mult.drop(work_mult[work_mult['AGE']==0].index)"
   ]
  },
  {
   "cell_type": "code",
   "execution_count": 17,
   "metadata": {},
   "outputs": [],
   "source": [
    "work_mult.reset_index(inplace=True)"
   ]
  },
  {
   "cell_type": "code",
   "execution_count": 18,
   "metadata": {},
   "outputs": [],
   "source": [
    "work_mult['Income'] = work_mult['CONINC']"
   ]
  },
  {
   "cell_type": "markdown",
   "metadata": {},
   "source": [
    "# Visualizing Data\n",
    "\n",
    "First, I want to make sure my data has no outliers"
   ]
  },
  {
   "cell_type": "code",
   "execution_count": 19,
   "metadata": {},
   "outputs": [
    {
     "data": {
      "image/png": "[encoded data removed]",
      "text/plain": [
       "<Figure size 432x288 with 1 Axes>"
      ]
     },
     "metadata": {},
     "output_type": "display_data"
    }
   ],
   "source": [
    "plt.boxplot(work_mult['Income'])\n",
    "plt.title('GSS Income Data')\n",
    "plt.show()"
   ]
  },
  {
   "cell_type": "markdown",
   "metadata": {},
   "source": [
    "There, appear to be a few. I need to remove them. "
   ]
  },
  {
   "cell_type": "code",
   "execution_count": 20,
   "metadata": {},
   "outputs": [
    {
     "data": {
      "text/plain": [
       "count      9172.000000\n",
       "mean      48414.707421\n",
       "std       41835.001585\n",
       "min         363.000000\n",
       "25%       18241.000000\n",
       "50%       37372.500000\n",
       "75%       63195.000000\n",
       "max      178712.464940\n",
       "Name: Income, dtype: float64"
      ]
     },
     "execution_count": 20,
     "metadata": {},
     "output_type": "execute_result"
    }
   ],
   "source": [
    "work_mult['Income'].describe()"
   ]
  },
  {
   "cell_type": "code",
   "execution_count": 21,
   "metadata": {},
   "outputs": [],
   "source": [
    "# user IQR*1.5 + Q3 for upper outlier bound\n",
    "outlier = (59542-17242.5) * 1.5 + 59542"
   ]
  },
  {
   "cell_type": "code",
   "execution_count": 22,
   "metadata": {},
   "outputs": [],
   "source": [
    "new_inc = []\n",
    "for inc in work_mult['Income']:\n",
    "    if inc < outlier:\n",
    "        new_inc.append(inc)\n",
    "    else:\n",
    "        new_inc.append(-1)\n",
    "        \n",
    "work_mult['Income'] = new_inc"
   ]
  },
  {
   "cell_type": "code",
   "execution_count": 23,
   "metadata": {},
   "outputs": [],
   "source": [
    "work_mult = work_mult.drop(work_mult[work_mult['Income']==-1].index)"
   ]
  },
  {
   "cell_type": "code",
   "execution_count": 24,
   "metadata": {},
   "outputs": [],
   "source": [
    "work_mult.reset_index(inplace=True)"
   ]
  },
  {
   "cell_type": "code",
   "execution_count": 25,
   "metadata": {
    "scrolled": true
   },
   "outputs": [
    {
     "data": {
      "image/png": "[encoded data removed]",
      "text/plain": [
       "<Figure size 432x288 with 1 Axes>"
      ]
     },
     "metadata": {},
     "output_type": "display_data"
    }
   ],
   "source": [
    "plt.hist(work_mult['Income'])\n",
    "plt.title('GSS Income Data')\n",
    "plt.show()"
   ]
  },
  {
   "cell_type": "markdown",
   "metadata": {},
   "source": [
    "My outcome variable is not normally distributed, I will keep that in mind while modeling. Though it is not required for my outcome to be normal, it is required that the residuals of my model have a normal distribution.\n",
    "\n",
    "Another important part of regressive modeling is making sure there is a linear or somewhat linear relationship between the outcome and the features."
   ]
  },
  {
   "cell_type": "code",
   "execution_count": 26,
   "metadata": {},
   "outputs": [
    {
     "data": {
      "image/png": "[encoded data removed]",
      "text/plain": [
       "<Figure size 576x288 with 1 Axes>"
      ]
     },
     "metadata": {},
     "output_type": "display_data"
    }
   ],
   "source": [
    "fig, ax = plt.subplots(figsize=(8,4))\n",
    "sns.axes_style(\"white\")\n",
    "sns.pointplot(x=\"EDUC\",\n",
    "              y=\"Income\",\n",
    "              data=work_mult,\n",
    "              alpha=0.1,\n",
    "              palette=sns.color_palette(\"hls\", 20),\n",
    "              ax=ax)\n",
    "plt.title('Education vs. Income')\n",
    "plt.xlabel('Education Level (years)')\n",
    "plt.ylabel('Income (USD)')\n",
    "plt.show()"
   ]
  },
  {
   "cell_type": "markdown",
   "metadata": {},
   "source": [
    "Here I will note that the values in education relate to how many years of school someone has attended. The value starts at 5, meaning the lowest represented Education value is individuals with 5 years (or less) of formal schooling. \n",
    "\n",
    "Years of Education certainly has a near linear relationship between itself and Income, so I can use modeling to determine how it and Income interact.\n",
    "\n",
    "How does Race relate to Income?"
   ]
  },
  {
   "cell_type": "code",
   "execution_count": 27,
   "metadata": {},
   "outputs": [
    {
     "data": {
      "image/png": "[encoded data removed]",
      "text/plain": [
       "<Figure size 576x288 with 1 Axes>"
      ]
     },
     "metadata": {},
     "output_type": "display_data"
    }
   ],
   "source": [
    "fig, ax = plt.subplots(figsize=(8,4))\n",
    "sns.axes_style(\"white\")\n",
    "plt.tick_params(zorder=2.0)\n",
    "sns.pointplot(x=\"Race\"\n",
    "            ,y=\"Income\"\n",
    "            ,data=work_mult\n",
    "            ,alpha=0.1\n",
    "             ,palette=sns.color_palette(\"hls\", 20)\n",
    "             ,ax=ax)\n",
    "plt.title('Figure 1: Race vs. Income')\n",
    "plt.ylabel('Income (USD)')\n",
    "plt.show()"
   ]
  },
  {
   "cell_type": "code",
   "execution_count": 28,
   "metadata": {},
   "outputs": [
    {
     "data": {
      "image/png": "[encoded data removed]",
      "text/plain": [
       "<Figure size 720x360 with 1 Axes>"
      ]
     },
     "metadata": {},
     "output_type": "display_data"
    }
   ],
   "source": [
    "# Looking for overall patterns\n",
    "fig, ax = plt.subplots(figsize=(10,5))\n",
    "sns.axes_style(\"white\")\n",
    "sns.pointplot(x=\"YEAR\"\n",
    "            ,y=\"Income\"\n",
    "            ,hue='Race'\n",
    "            ,data=work_mult\n",
    "             ,ax=ax)\n",
    "plt.legend(bbox_to_anchor=(1.05, 1), loc=2)\n",
    "plt.title('Figure 2: GSS Years vs. Income across by Race ')\n",
    "plt.xlabel('GSS Year')\n",
    "plt.ylabel('Income (USD)')\n",
    "plt.show()"
   ]
  },
  {
   "cell_type": "markdown",
   "metadata": {},
   "source": [
    "It is important here to note that I am only using the race categories of white, black, or other. This is purely out of neccessity, as my computers and most others would not be able to handle the model I intend to use with more groups.\n",
    "\n",
    "Since Race it categorical, it can be more difficult to see if it relates linearly to Income. Forntunately, between the 2 visualizations it is very clear that race has a somewhat linear impact on Income, certainly enough for a categorical variable. So I can use modeling to see how it relates to income.\n",
    "\n",
    "Age is another factor that can affect Income, but probably not in linear ways. How do Age and Income relate?"
   ]
  },
  {
   "cell_type": "code",
   "execution_count": 29,
   "metadata": {},
   "outputs": [
    {
     "data": {
      "image/png": "[encoded data removed]",
      "text/plain": [
       "<Figure size 720x360 with 1 Axes>"
      ]
     },
     "metadata": {},
     "output_type": "display_data"
    }
   ],
   "source": [
    "# Looking for overall patterns\n",
    "fig, ax = plt.subplots(figsize=(10,5))\n",
    "# possibly put some years on axis\n",
    "plt.xticks(np.arange(18, 90, 4))\n",
    "plt.tick_params(axis='x',\n",
    "                which='both',\n",
    "                bottom=False,\n",
    "                top=False,\n",
    "                labelbottom=False)\n",
    "sns.axes_style(\"white\")\n",
    "sns.pointplot(x=\"AGE\",\n",
    "              y=\"Income\",\n",
    "              data=work_mult,\n",
    "              ax=ax)\n",
    "plt.title('Respondant Age vs. Income')\n",
    "plt.xlabel('Age (18-89 Years)')\n",
    "plt.ylabel('Income (USD)')\n",
    "plt.show()"
   ]
  },
  {
   "cell_type": "markdown",
   "metadata": {},
   "source": [
    "Age certainly affects Income, but I would not be able to evalute how through linear regression alone since it does not relate to it in any linear way. \n",
    "\n",
    "More troubling, the income data coming from 18-25 year olds is very similar to the Income data coming from 70-89 years olds. This makes sense, because younger people usually have less experiance, thus get lower paying jobs with less income and older people have retired thus have lower income as well. However, these groups are socially very different, the way that race and education affect income for younger people is not neccesarily the same as the way that race and education affected the people of the past.  In fact, a person's age may change how their race and education affect their income.\n",
    "\n",
    "I don't want these possible differences to affect my results, so I will model with a Mixed Effect Linear Regression model, where my groups will be based on respondant age. This way, each age group can be allowed to interact with the parameters differently."
   ]
  },
  {
   "cell_type": "markdown",
   "metadata": {},
   "source": [
    "# Calculate ICC\n",
    "\n",
    "Before I can use a Mixed Effect, or ME, model, I must make sure that the classes, or age grouos, have dependency. This means that results between members of the same group are more similar to each other than members of the entire dataset. \n",
    "\n",
    "This is done be calculating the IntraClass Correlation (ICC)."
   ]
  },
  {
   "cell_type": "code",
   "execution_count": 30,
   "metadata": {},
   "outputs": [],
   "source": [
    "import statsmodels.api as sm\n",
    "import statsmodels.formula.api as smf\n",
    "from statsmodels.regression.mixed_linear_model import MixedLMParams"
   ]
  },
  {
   "cell_type": "code",
   "execution_count": 31,
   "metadata": {},
   "outputs": [
    {
     "name": "stdout",
     "output_type": "stream",
     "text": [
      "running...\n",
      "             Mixed Linear Model Regression Results\n",
      "================================================================\n",
      "Model:              MixedLM  Dependent Variable:  Income        \n",
      "No. Observations:   8484     Method:              REML          \n",
      "No. Groups:         72       Scale:               692927560.8353\n",
      "Min. group size:    15       Likelihood:          -98461.3041   \n",
      "Max. group size:    195      Converged:           Yes           \n",
      "Mean group size:    117.8                                       \n",
      "----------------------------------------------------------------\n",
      "             Coef.     Std.Err.   z    P>|z|   [0.025    0.975] \n",
      "----------------------------------------------------------------\n",
      "Intercept    37077.340  928.145 39.948 0.000 35258.210 38896.469\n",
      "Group Var 53600382.904  405.200                                 \n",
      "================================================================\n",
      "\n",
      "done!\n",
      "The Intraclass Correlation is: 0.07179956671893806\n"
     ]
    }
   ],
   "source": [
    "# Model to use for calculating the ICC\n",
    "print('running...')\n",
    "model = smf.mixedlm(\"Income ~ 1\",data=work_mult,groups=work_mult['AGE'])\n",
    "result = model.fit(method='nm',maxiter=200, full_output=True)\n",
    "print(result.summary())\n",
    "print(\"done!\")\n",
    "\n",
    "# Function to calculate the intraclass correlation\n",
    "def ICC(fittedmodel):\n",
    "    between_var= fittedmodel.cov_re.iloc[0,0]\n",
    "    resid=fittedmodel.scale\n",
    "    icc=between_var/(between_var+resid)\n",
    "    return icc\n",
    "\n",
    "print('The Intraclass Correlation is: {}'.format(ICC(result)))"
   ]
  },
  {
   "cell_type": "markdown",
   "metadata": {},
   "source": [
    "So, people of the same age are more than 7% more similar than people of any age. This is greater than the overall significance I set and thus I can used ME models with this data and situation."
   ]
  },
  {
   "cell_type": "markdown",
   "metadata": {},
   "source": [
    "# Modeling with Mixed Effects\n",
    "\n",
    "Mixed Effect models are made up of both 'fixed' and 'random' effects. Fixed effects are the trends that the entire data set follows and every parameter will have fixed effects (the intercept may be fixed of random). Random effect are the trends that only effect members of the same group, in this case people of the same age; not every parameter will have random effects, and finding which parameter should have random effects and which should not is one of the most important parts of ME modelings."
   ]
  },
  {
   "cell_type": "markdown",
   "metadata": {},
   "source": [
    "## Running Different RE Configurations\n",
    "\n",
    "Though the model I am using may be mixed effect, it is still linear regression and such will try and optimize a basic linear formula. Here, this formula looks something like this:\n",
    "\n",
    "$$Income_{age} = intercept + X*education + Y*race$$\n",
    "\n",
    "I need to decide if I will have a fixed or random intercept, a fixed or random education coefficient/slope, and finally a fixed or random race coefficient/slope.\n",
    "\n",
    "This leads to 7 different configurations in total: \n",
    "1. Random Intercept, Random Education Slope AND Random Race Slope\n",
    "2. Random Intercept, Random Education Slope\n",
    "3. Random Intercept, Random Race Slope\n",
    "4. Random Intercept, No Random Slope\n",
    "5. Fixed Intercept, Random Education Slope AND Random Race Slope\n",
    "6. Fixed Intercept, Random Education Slope\n",
    "7. Fixed Intercept, Random Race Slope"
   ]
  },
  {
   "cell_type": "markdown",
   "metadata": {},
   "source": [
    "### 1. Random Intercept, Random Education Slope AND Random Race Slope\n",
    "\n",
    "Unfortunately, this model did not converge, meaning its results were unstable. It will not be used further."
   ]
  },
  {
   "cell_type": "code",
   "execution_count": 32,
   "metadata": {},
   "outputs": [
    {
     "name": "stdout",
     "output_type": "stream",
     "text": [
      "Running age-controlled random intercept and random race and education slope model\n"
     ]
    },
    {
     "name": "stderr",
     "output_type": "stream",
     "text": [
      "c:\\users\\ben stano\\appdata\\local\\programs\\python\\python36-32\\lib\\site-packages\\statsmodels\\base\\model.py:508: ConvergenceWarning: Maximum Likelihood optimization failed to converge. Check mle_retvals\n",
      "  \"Check mle_retvals\", ConvergenceWarning)\n",
      "c:\\users\\ben stano\\appdata\\local\\programs\\python\\python36-32\\lib\\site-packages\\statsmodels\\base\\model.py:508: ConvergenceWarning: Maximum Likelihood optimization failed to converge. Check mle_retvals\n",
      "  \"Check mle_retvals\", ConvergenceWarning)\n",
      "c:\\users\\ben stano\\appdata\\local\\programs\\python\\python36-32\\lib\\site-packages\\statsmodels\\base\\model.py:508: ConvergenceWarning: Maximum Likelihood optimization failed to converge. Check mle_retvals\n",
      "  \"Check mle_retvals\", ConvergenceWarning)\n",
      "c:\\users\\ben stano\\appdata\\local\\programs\\python\\python36-32\\lib\\site-packages\\statsmodels\\base\\model.py:508: ConvergenceWarning: Maximum Likelihood optimization failed to converge. Check mle_retvals\n",
      "  \"Check mle_retvals\", ConvergenceWarning)\n",
      "c:\\users\\ben stano\\appdata\\local\\programs\\python\\python36-32\\lib\\site-packages\\statsmodels\\base\\model.py:508: ConvergenceWarning: Maximum Likelihood optimization failed to converge. Check mle_retvals\n",
      "  \"Check mle_retvals\", ConvergenceWarning)\n",
      "c:\\users\\ben stano\\appdata\\local\\programs\\python\\python36-32\\lib\\site-packages\\statsmodels\\regression\\mixed_linear_model.py:2026: ConvergenceWarning: Gradient optimization failed.\n",
      "  warnings.warn(msg, ConvergenceWarning)\n"
     ]
    },
    {
     "name": "stdout",
     "output_type": "stream",
     "text": [
      "                          Mixed Linear Model Regression Results\n",
      "==========================================================================================\n",
      "Model:                      MixedLM           Dependent Variable:           Income        \n",
      "No. Observations:           8484              Method:                       REML          \n",
      "No. Groups:                 72                Scale:                        590000339.3739\n",
      "Min. group size:            15                Likelihood:                   -97757.9922   \n",
      "Max. group size:            195               Converged:                    No            \n",
      "Mean group size:            117.8                                                         \n",
      "------------------------------------------------------------------------------------------\n",
      "                                     Coef.     Std.Err.   z    P>|z|   [0.025     0.975]  \n",
      "------------------------------------------------------------------------------------------\n",
      "Intercept                           -13222.069 1553.959 -8.509 0.000 -16267.774 -10176.364\n",
      "Race[T.Other]                         7824.106 1324.350  5.908 0.000   5228.427  10419.784\n",
      "Race[T.White]                        10421.500  944.663 11.032 0.000   8569.994  12273.006\n",
      "EDUC                                  3135.445  122.459 25.604 0.000   2895.431   3375.460\n",
      "Group Var                          3569966.677 1194.306                                   \n",
      "Group x Race[T.Other] Cov            -1817.712  627.455                                   \n",
      "Race[T.Other] Var                  4178904.063  637.428                                   \n",
      "Group x Race[T.White] Cov         -2848973.605  554.985                                   \n",
      "Race[T.Other] x Race[T.White] Cov     9976.723  510.343                                   \n",
      "Race[T.White] Var                  2349101.764  545.783                                   \n",
      "Group x EDUC Cov                  -1009418.976   86.748                                   \n",
      "Race[T.Other] x EDUC Cov           -154327.795   47.240                                   \n",
      "Race[T.White] x EDUC Cov            815240.926   38.232                                   \n",
      "EDUC Var                            292478.636    7.948                                   \n",
      "==========================================================================================\n",
      "\n",
      "done!\n"
     ]
    }
   ],
   "source": [
    "print('Running age-controlled random intercept and random race and education slope model')\n",
    "arisb_model = smf.mixedlm(\"Income ~ Race + EDUC\",data=work_mult,groups=work_mult['AGE'], re_formula=\"~Race+EDUC\")\n",
    "arisb_result = arisb_model.fit(method='nm', maxiter=200, full_output=True)\n",
    "print(arisb_result.summary())\n",
    "print(\"done!\")"
   ]
  },
  {
   "cell_type": "markdown",
   "metadata": {},
   "source": [
    "### 2. Random Intercept, Random Education Slope"
   ]
  },
  {
   "cell_type": "code",
   "execution_count": 33,
   "metadata": {},
   "outputs": [
    {
     "name": "stdout",
     "output_type": "stream",
     "text": [
      "Running age-controlled random intercept and random education slope model\n",
      "                 Mixed Linear Model Regression Results\n",
      "========================================================================\n",
      "Model:                MixedLM     Dependent Variable:     Income        \n",
      "No. Observations:     8484        Method:                 REML          \n",
      "No. Groups:           72          Scale:                  590707324.0644\n",
      "Min. group size:      15          Likelihood:             -97760.9007   \n",
      "Max. group size:      195         Converged:              Yes           \n",
      "Mean group size:      117.8                                             \n",
      "------------------------------------------------------------------------\n",
      "                    Coef.    Std.Err.   z    P>|z|   [0.025     0.975]  \n",
      "------------------------------------------------------------------------\n",
      "Intercept         -13732.175 1485.611 -9.243 0.000 -16643.920 -10820.431\n",
      "Race[T.Other]       7858.425 1158.717  6.782 0.000   5587.383  10129.468\n",
      "Race[T.White]      10866.426  772.230 14.071 0.000   9352.882  12379.969\n",
      "EDUC                3144.579  119.461 26.323 0.000   2910.439   3378.719\n",
      "Group Var         603337.809  940.587                                   \n",
      "Group x EDUC Cov -103507.831   73.358                                   \n",
      "EDUC Var          253052.333    6.770                                   \n",
      "========================================================================\n",
      "\n",
      "done!\n"
     ]
    }
   ],
   "source": [
    "print('Running age-controlled random intercept and random education slope model')\n",
    "arise_model = smf.mixedlm(\"Income ~ Race + EDUC\",data=work_mult,groups=work_mult['AGE'], re_formula=\"~EDUC\")\n",
    "arise_result = arise_model.fit(method='nm', maxiter=200, full_output=True)\n",
    "print(arise_result.summary())\n",
    "print(\"done!\")"
   ]
  },
  {
   "cell_type": "markdown",
   "metadata": {},
   "source": [
    "### 3. Random Intercept, Random Race Slope"
   ]
  },
  {
   "cell_type": "code",
   "execution_count": null,
   "metadata": {},
   "outputs": [
    {
     "name": "stdout",
     "output_type": "stream",
     "text": [
      "Running Random Intercept, Random Race Slope model\n"
     ]
    },
    {
     "name": "stderr",
     "output_type": "stream",
     "text": [
      "c:\\users\\ben stano\\appdata\\local\\programs\\python\\python36-32\\lib\\site-packages\\statsmodels\\base\\model.py:508: ConvergenceWarning: Maximum Likelihood optimization failed to converge. Check mle_retvals\n",
      "  \"Check mle_retvals\", ConvergenceWarning)\n"
     ]
    }
   ],
   "source": [
    "print('Running Random Intercept, Random Race Slope model')\n",
    "arisr_model = smf.mixedlm(\"Income ~ Race + EDUC\",data=work_mult,groups=work_mult['AGE'], re_formula=\"~Race\")\n",
    "arisr_result = arisr_model.fit(method='nm', maxiter=200, full_output=True)\n",
    "print(arisr_result.summary())\n",
    "print(\"done!\")"
   ]
  },
  {
   "cell_type": "markdown",
   "metadata": {},
   "source": [
    "### 4. Random Intercept, No Random Slope"
   ]
  },
  {
   "cell_type": "code",
   "execution_count": null,
   "metadata": {
    "scrolled": false
   },
   "outputs": [],
   "source": [
    "print('Running age-controlled random intercept model')\n",
    "ari_model = smf.mixedlm(\"Income ~ Race + EDUC\",data=work_mult,groups=work_mult['AGE'])\n",
    "ari_result = ari_model.fit(method='nm', maxiter=200, full_output=True)\n",
    "print(ari_result.summary())\n",
    "print(\"done!\")"
   ]
  },
  {
   "cell_type": "markdown",
   "metadata": {},
   "source": [
    "### 5. Fixed Intercept, Random Education Slope AND Random Race Slope\n",
    "\n",
    "This model also did not converge, this configuartion is clearly not ideal."
   ]
  },
  {
   "cell_type": "code",
   "execution_count": null,
   "metadata": {},
   "outputs": [],
   "source": [
    "print('Running Fixed Intercept, Random Education Slope AND Random Race Slope model')\n",
    "arsb_model = smf.mixedlm(\"Income ~ Race + EDUC\",data=work_mult,groups=work_mult['AGE'], re_formula=\"~0+Race+EDUC\")\n",
    "arsb_result = arsb_model.fit(method='nm',maxiter=200, full_output=True)\n",
    "print(arsb_result.summary())\n",
    "print(\"done!\")"
   ]
  },
  {
   "cell_type": "markdown",
   "metadata": {},
   "source": [
    "### 6. Fixed Intercept, Random Education Slope"
   ]
  },
  {
   "cell_type": "code",
   "execution_count": null,
   "metadata": {},
   "outputs": [],
   "source": [
    "print('Running Fixed Intercept, Random Education Slope model')\n",
    "arse_model = smf.mixedlm(\"Income ~ Race + EDUC\",data=work_mult,groups=work_mult['AGE'], re_formula=\"~0+EDUC\")\n",
    "arse_result = arse_model.fit(method='nm',maxiter=200, full_output=True)\n",
    "print(arse_result.summary())\n",
    "print(\"done!\")"
   ]
  },
  {
   "cell_type": "markdown",
   "metadata": {},
   "source": [
    "### 7. Fixed Intercept, Random Race Slope"
   ]
  },
  {
   "cell_type": "code",
   "execution_count": null,
   "metadata": {},
   "outputs": [],
   "source": [
    "print('Running Fixed Intercept, Random Race Slope model')\n",
    "arsr_model = smf.mixedlm(\"Income ~ Race + EDUC\",data=work_mult,groups=work_mult['AGE'], re_formula=\"~0+Race\")\n",
    "arsr_result = arsr_model.fit(method='nm',maxiter=200, full_output=True)\n",
    "print(arsr_result.summary())\n",
    "print(\"done!\")"
   ]
  },
  {
   "cell_type": "markdown",
   "metadata": {},
   "source": [
    "## Comparing Random Effect Configurations\n",
    "\n",
    "After all is said and done, I am left 5 model random effect configurations to test: \n",
    "2. Random Intercept, Random Education Slope\n",
    "3. Random Intercept, Random Race Slope\n",
    "4. Random Intercept, No Random Slope\n",
    "6. Fixed Intercept, Random Education Slope\n",
    "7. Fixed Intercept, Random Race Slope\n",
    "\n",
    "Both model configurations that failed were the ones that used random effects for both variables, showing just how large and overcomplicationed ME models can get very quickly\n",
    "\n",
    "Comparing between ME models can be tricky, since they can have such different parameters. You can only directly compare the performance of 2 ME models if one model is a subset of the other. This means that the components of one model are totally contained within the components of another models. For example, a random intercept ME model with be a subset of a random intercept and slope ME model, since the latter has the features of the random intercept ME and more.\n",
    "\n",
    "In order to test between test these model configurations, I will get a p-value from using the log-likelihood diferrence between the 2 models. If the p-value is below my set significance level, then the larger model explains significantly more variance than the smaller model, thus the larger is preferred. If the p-value is above my set significance level, then the larger model and the smaller model explain around the same amount of variance, thus the smaller model should be kept since it is more efficient."
   ]
  },
  {
   "cell_type": "code",
   "execution_count": null,
   "metadata": {},
   "outputs": [],
   "source": [
    "from scipy.stats import chi2\n",
    "\n",
    "# set up method to get p-value from likelihood ratio\n",
    "def likelihood_ratio_test(bigmodel, smallmodel):\n",
    "    likelihoodratio=2*(bigmodel.llf-smallmodel.llf)\n",
    "    df=bigmodel.df_modelwc-smallmodel.df_modelwc\n",
    "    p=chi2.sf(likelihoodratio, df)\n",
    "    return p"
   ]
  },
  {
   "cell_type": "code",
   "execution_count": null,
   "metadata": {},
   "outputs": [],
   "source": [
    "lrt=likelihood_ratio_test(arise_result,arse_result)\n",
    "print('Comparing the Random Intercept, Random Education Slope model to the Fixed Intercept, Random Education Slope model: \\n{}'.format(lrt))"
   ]
  },
  {
   "cell_type": "markdown",
   "metadata": {},
   "source": [
    "The __Random Intercept, Random Education Slope__ configuration is a better model than the Fixed Intercept, Random Education Slope model"
   ]
  },
  {
   "cell_type": "code",
   "execution_count": null,
   "metadata": {},
   "outputs": [],
   "source": [
    "lrt=likelihood_ratio_test(arisr_result,arsr_result)\n",
    "print('Comparing the Random Intercept, Random Race Slope model to the Fixed Intercept, Random Race Slope model: \\n{}'.format(lrt))\n",
    "\n",
    "lrt=likelihood_ratio_test(arsr_result,arisr_result)\n",
    "print('\\nComparing the Fixed Intercept, Random Race Slope to the Random Intercept, Random Race Slope model: \\n{}'.format(lrt))"
   ]
  },
  {
   "cell_type": "markdown",
   "metadata": {},
   "source": [
    "I cannot directly compare these two models because the Fixed Intercept, Random Race Slope model's features are not totally contained within the Random Intercept, Random Race Slope model as logic expects.\n",
    "\n",
    "This is because the race variable is categorical, when it is not accompanied with a random intercept the 'Black' category of race becomes the intercept and takes on the role of a parameter itself. As such both the random race slope and the random intercept slope are models with an equal number of features and the same number of variables. And looking at the features of both models, they are extremely similar, having nearly identical first-level features.\n",
    "\n",
    "I can get around this problem by comparing the 2 configurations to the same things"
   ]
  },
  {
   "cell_type": "code",
   "execution_count": null,
   "metadata": {},
   "outputs": [],
   "source": [
    "lrt=likelihood_ratio_test(arise_result,ari_result)\n",
    "print('Comparing the Random Intercept, Random Education Slope model to the Random Intercept model: \\n{}'.format(lrt))\n",
    "\n",
    "lrt=likelihood_ratio_test(arisr_result,ari_result)\n",
    "print('\\nComparing the Random Intercept, Random Race Slope model to the Random Intercept model: \\n{}'.format(lrt))\n",
    "\n",
    "lrt=likelihood_ratio_test(arsr_result,ari_result)\n",
    "print('\\nComparing the Fixed Intercept, Random Race Slope model to the Random Intercept model: \\n{}'.format(lrt))"
   ]
  },
  {
   "cell_type": "markdown",
   "metadata": {},
   "source": [
    "Here, I have compared the Random Intercept, Random Education Slope model, the Random Intercept, Random Race Slope model, and the Fixed Intercept, Random Race Slope model all against the Random Intercept model. This way, I will be able to judge how all these configurations which cannot directly be compared. \n",
    "\n",
    "All of the comparasons indicate that the Random Intercept model performs the worst of all the configurations.\n",
    "\n",
    "Both the Random Intercept, Random Race Slope model and the Fixed Intercept, Random Race Slope perform very similarly against the Random Intercept model, unsuprising condisering how similar the models are in general.\n",
    "\n",
    "The Random Intercept, Random Education Slope model perform much better than both of the Random Race slope models, having a much more significant difference in performance. __Random Intercept, Random Education Slope__ will be the random effect configuration I move forward with."
   ]
  },
  {
   "cell_type": "markdown",
   "metadata": {},
   "source": [
    "# Checking Model Residuals\n",
    "\n",
    "Though I know which RE configuration models best, I still need to be sure that I have a good model.  This is still linear regression, and as such the model residuals must satisfying certain conditions before I can be sure that my model is reliable.\n",
    "\n",
    "First, the residuals must be normally distributed. Second, the data must be relatively homoscedastic, meaning the resudiuals must be relatively even amoung the income values. Last, the residuals must be equally distributed amoung parameter values, in this case education and race."
   ]
  },
  {
   "cell_type": "code",
   "execution_count": null,
   "metadata": {},
   "outputs": [],
   "source": [
    "# get model residuals\n",
    "work_mult['residual_age']=arise_result.resid"
   ]
  },
  {
   "cell_type": "markdown",
   "metadata": {},
   "source": [
    "## Normal Distributed Residuals"
   ]
  },
  {
   "cell_type": "code",
   "execution_count": null,
   "metadata": {},
   "outputs": [],
   "source": [
    "# Are residuals normally distributed?\n",
    "plt.hist(work_mult['residual_age'])\n",
    "plt.title('Distribution of Residuals')\n",
    "plt.show()"
   ]
  },
  {
   "cell_type": "markdown",
   "metadata": {},
   "source": [
    "Though it is ever so slightly skewed, the residuals are normal enough."
   ]
  },
  {
   "cell_type": "markdown",
   "metadata": {},
   "source": [
    "## Evenly distributed Residuals amoung Parameters"
   ]
  },
  {
   "cell_type": "code",
   "execution_count": null,
   "metadata": {
    "scrolled": true
   },
   "outputs": [],
   "source": [
    "# Is variance constant for all values of the predictors?\n",
    "plt.scatter(work_mult['EDUC'],work_mult['residual_age'])\n",
    "plt.title('Residuals by Education Level')\n",
    "plt.show()"
   ]
  },
  {
   "cell_type": "code",
   "execution_count": null,
   "metadata": {
    "scrolled": false
   },
   "outputs": [],
   "source": [
    "# Is variance constant for all values of the predictors?\n",
    "plt.scatter(work_mult['Race'],work_mult['residual_age'])\n",
    "plt.title('Residuals by Race')\n",
    "plt.show()"
   ]
  },
  {
   "cell_type": "markdown",
   "metadata": {},
   "source": [
    "This looks great too. There is a little inconsistency in the education level residuals, but overall both features seem pretty balanced."
   ]
  },
  {
   "cell_type": "markdown",
   "metadata": {},
   "source": [
    "## Homoscedastic Residuals"
   ]
  },
  {
   "cell_type": "code",
   "execution_count": null,
   "metadata": {},
   "outputs": [],
   "source": [
    "# Is variance constant for all values of the outcome?\n",
    "plt.scatter(work_mult['Income'],work_mult['residual_age'])\n",
    "plt.title('Residuals by Income values')\n",
    "plt.show()"
   ]
  },
  {
   "cell_type": "markdown",
   "metadata": {},
   "source": [
    "This doesn't look that good. Although the error distribution seems to have a similar total variance amoung Income values, the mean of those error values varies largely per data value, going from about -4000 to 6000. That big a gap is too big for the numbers I've been esitmating. I'll have to fix this.\n",
    "\n",
    "I can do this be performing a non-linear transformation on the income variable. \n",
    "\n",
    "I will take the square root of the income variable. So my model's predictions will now be relative to the square root of the respondant's income. "
   ]
  },
  {
   "cell_type": "code",
   "execution_count": null,
   "metadata": {},
   "outputs": [],
   "source": [
    "work_mult['Income'].describe()"
   ]
  },
  {
   "cell_type": "code",
   "execution_count": null,
   "metadata": {},
   "outputs": [],
   "source": [
    "work_mult['IncomeSqrt'] = np.sqrt(work_mult['Income'])"
   ]
  },
  {
   "cell_type": "code",
   "execution_count": null,
   "metadata": {},
   "outputs": [],
   "source": [
    "print('Running Square Root Income model')\n",
    "arise_sqrt_model = smf.mixedlm(\"IncomeSqrt ~ Race + EDUC\",data=work_mult,groups=work_mult['AGE'], re_formula=\"~EDUC\")\n",
    "arise_sqrt_result = arise_sqrt_model.fit(method='nm', maxiter=200, full_output=True)\n",
    "print(arise_sqrt_result.summary())\n",
    "print(\"done!\")"
   ]
  },
  {
   "cell_type": "code",
   "execution_count": null,
   "metadata": {},
   "outputs": [],
   "source": [
    "# get model residuals\n",
    "work_mult['residual_age_sqrt']=arise_sqrt_result.resid"
   ]
  },
  {
   "cell_type": "markdown",
   "metadata": {},
   "source": [
    "## Normally Distributed Residuals"
   ]
  },
  {
   "cell_type": "code",
   "execution_count": null,
   "metadata": {
    "scrolled": true
   },
   "outputs": [],
   "source": [
    "# Are residuals normally distributed?\n",
    "plt.hist(work_mult['residual_age_sqrt'])\n",
    "plt.title('Distribution of Square Root Residuals')\n",
    "plt.show()"
   ]
  },
  {
   "cell_type": "markdown",
   "metadata": {},
   "source": [
    "The residuals were somewhat skewed before, but now they look almost perfectly normal. It looks like the model has improved in more than the intended way, great!"
   ]
  },
  {
   "cell_type": "markdown",
   "metadata": {},
   "source": [
    "## Evenly distributed Residuals amoung Parameters"
   ]
  },
  {
   "cell_type": "code",
   "execution_count": null,
   "metadata": {
    "scrolled": true
   },
   "outputs": [],
   "source": [
    "# Is variance constant for all values of the predictors?\n",
    "plt.scatter(work_mult['EDUC'],work_mult['residual_age_sqrt'])\n",
    "plt.title('Square Root Residuals by Education Level')\n",
    "plt.show()"
   ]
  },
  {
   "cell_type": "code",
   "execution_count": null,
   "metadata": {
    "scrolled": false
   },
   "outputs": [],
   "source": [
    "# Is variance constant for all values of the predictors?\n",
    "plt.scatter(work_mult['Race'],work_mult['residual_age_sqrt'])\n",
    "plt.title('Square Root Residuals by Race')\n",
    "plt.show()"
   ]
  },
  {
   "cell_type": "markdown",
   "metadata": {},
   "source": [
    "The residual's distribution about the parameters also looks even better, especially for education level."
   ]
  },
  {
   "cell_type": "markdown",
   "metadata": {},
   "source": [
    "## Homoscedastic Residuals"
   ]
  },
  {
   "cell_type": "code",
   "execution_count": null,
   "metadata": {
    "scrolled": true
   },
   "outputs": [],
   "source": [
    "# Is variance constant for all values of the outcome?\n",
    "plt.scatter(work_mult['IncomeSqrt'],work_mult['residual_age_sqrt'])\n",
    "plt.title('Residuals by Square Root Income values')\n",
    "plt.show()"
   ]
  },
  {
   "cell_type": "markdown",
   "metadata": {},
   "source": [
    "The residuals are definitely also much improved. The gap between the residual for the highest and the lowest Income values is noq only about -160 and 110. That is very reasonable when predicting Income values which average to be about 30,000.\n",
    "\n",
    "Still, it retains the same slanted slopt that it had before. And try as I might with other combination of linear transformations, I was not about to remove it. I may be able to fix the problem with Weighted Regression, where I apply a scaler to the Income variable based on it's residuals at that value. However, the output would become much harder to interperet for the kind of analysis I want to perform."
   ]
  },
  {
   "cell_type": "markdown",
   "metadata": {},
   "source": [
    "# Interpreting Model Results"
   ]
  },
  {
   "cell_type": "code",
   "execution_count": null,
   "metadata": {},
   "outputs": [],
   "source": [
    "print('Running Square Root Income model')\n",
    "arise_sqrt_model = smf.mixedlm(\"IncomeSqrt ~ Race + EDUC\",data=work_mult,groups=work_mult['AGE'], re_formula=\"~EDUC\")\n",
    "arise_sqrt_result = arise_sqrt_model.fit(method='nm', maxiter=200, full_output=True)\n",
    "print(arise_sqrt_result.summary())\n",
    "print(\"done!\")"
   ]
  },
  {
   "cell_type": "code",
   "execution_count": null,
   "metadata": {},
   "outputs": [],
   "source": [
    "white = []\n",
    "black = []\n",
    "other = []\n",
    "indx = []\n",
    "for educ in range(5,21):\n",
    "    indx.append('{} years of Education'.format(educ))\n",
    "    for race in ['White','Black','Other']:\n",
    "        if race == 'White':\n",
    "            inc = (39.809 + 32.038 + 8.442*educ)**2\n",
    "            white.append('${}'.format(round(inc,2)))\n",
    "        if race == 'Black':\n",
    "            inc = (39.809 + 8.442*educ)**2\n",
    "            black.append('${}'.format(round(inc,2)))\n",
    "        if race == 'Other':\n",
    "            inc = (39.809 + 22.323 + 8.442*educ)**2\n",
    "            other.append('${}'.format(round(inc,2)))     "
   ]
  },
  {
   "cell_type": "code",
   "execution_count": null,
   "metadata": {},
   "outputs": [],
   "source": [
    "results = pd.DataFrame(index=indx)\n",
    "results[\"White\"] = white\n",
    "results[\"Black\"] = black\n",
    "results[\"Other\"] = other"
   ]
  },
  {
   "cell_type": "code",
   "execution_count": null,
   "metadata": {},
   "outputs": [],
   "source": [
    "display(results)"
   ]
  },
  {
   "cell_type": "markdown",
   "metadata": {},
   "source": [
    "All the modeling varibles have extremely low p-values, so my results are very significant. Also keep in mind that because of the nature of linear regression and categorial variabled, the model interpreted being black as the base case. My fixed effect linear equation is: \n",
    "\n",
    "$sqrt(Income) = 39.809 + 8.442 * Education + 22.323 * ifother + 32.038 * ifwhite$\n",
    "\n",
    "where 'ifother' is 1 if the person is not white or black, and zero otherwise, and 'ifwhite' is equal to 1 is the respondant is white and 0 otherwise. \n",
    "\n",
    "This means race gives has quite the effect. A white person with 5 years of education makes an average of \\$13,009.00 a year, while the average black person with similar education and age makes only \\$6,727.12 a year, the average non-white, non-black making \\$10,887.25 a year. It takes the average non-white, non-black person 2 more years of education before they reach the average white starting point, and by then the average white person is making \\$17,145.55 a year. It takes the average black person another 4 additional years of education, 9 in total, to reach the same starting point as the average white person, and by then the average white person is making \\$21,852.23 a year. \n",
    "\n",
    "At the same time, the difference between the average salary at 5 years of schoolings to 20 years of schooling is even larger.  For whites, the difference is \\$13,009.00 versus \\$57,930.23. For blacks, the difference is \\$6,727.12 versus \\$43,534.41. And for all other races, the difference is \\$10,887.25 versus \\$53348.06. These ranges are much larger than the gaps between races. In fact, the gaps between completing high school (12 years), college (16 years), and 4 postgraduate years (20 years) are each larger on their own than any gap between average incomes of different races of similar education levels.\n",
    "\n",
    "So, which is more important when determining income? Education or Race? \n",
    "\n",
    "The answer is Education. Even though race is clearly proven by the data to be an important factor, the difference between education levels has multiple gaps larger than the biggest racial gap. The GSS Data shows that years spent is school is more important than race when determining income between American individuals of the same age. "
   ]
  },
  {
   "cell_type": "markdown",
   "metadata": {},
   "source": [
    "## References\n",
    "\n",
    "http://gss.norc.org/"
   ]
  }
 ],
 "metadata": {
  "kernelspec": {
   "display_name": "Python 3",
   "language": "python",
   "name": "python3"
  },
  "language_info": {
   "codemirror_mode": {
    "name": "ipython",
    "version": 3
   },
   "file_extension": ".py",
   "mimetype": "text/x-python",
   "name": "python",
   "nbconvert_exporter": "python",
   "pygments_lexer": "ipython3",
   "version": "3.6.4"
  }
 },
 "nbformat": 4,
 "nbformat_minor": 2
}
